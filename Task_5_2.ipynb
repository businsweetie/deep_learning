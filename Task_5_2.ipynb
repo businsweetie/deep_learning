{
  "nbformat": 4,
  "nbformat_minor": 0,
  "metadata": {
    "colab": {
      "provenance": [],
      "toc_visible": true,
      "gpuType": "T4",
      "include_colab_link": true
    },
    "kernelspec": {
      "name": "python3",
      "display_name": "Python 3"
    },
    "language_info": {
      "name": "python"
    },
    "accelerator": "GPU",
    "widgets": {
      "application/vnd.jupyter.widget-state+json": {
        "73d2ef968fea4860aeeb5d8fc3a69f7f": {
          "model_module": "@jupyter-widgets/controls",
          "model_name": "HBoxModel",
          "model_module_version": "1.5.0",
          "state": {
            "_dom_classes": [],
            "_model_module": "@jupyter-widgets/controls",
            "_model_module_version": "1.5.0",
            "_model_name": "HBoxModel",
            "_view_count": null,
            "_view_module": "@jupyter-widgets/controls",
            "_view_module_version": "1.5.0",
            "_view_name": "HBoxView",
            "box_style": "",
            "children": [
              "IPY_MODEL_1eda4e8ac6c64fde997c3cc14bd145cf",
              "IPY_MODEL_0373802fe0e642a090ff6ea6236e9be2",
              "IPY_MODEL_94cd4df5fc254dd39767363d1c40ca55"
            ],
            "layout": "IPY_MODEL_6d9b8983d0ab4741800b5c4fea263a61"
          }
        },
        "1eda4e8ac6c64fde997c3cc14bd145cf": {
          "model_module": "@jupyter-widgets/controls",
          "model_name": "HTMLModel",
          "model_module_version": "1.5.0",
          "state": {
            "_dom_classes": [],
            "_model_module": "@jupyter-widgets/controls",
            "_model_module_version": "1.5.0",
            "_model_name": "HTMLModel",
            "_view_count": null,
            "_view_module": "@jupyter-widgets/controls",
            "_view_module_version": "1.5.0",
            "_view_name": "HTMLView",
            "description": "",
            "description_tooltip": null,
            "layout": "IPY_MODEL_f6727d9d0d7c49dca4c24220fc15ab0f",
            "placeholder": "​",
            "style": "IPY_MODEL_744dcaa15ebc461e8fcf298c152a8586",
            "value": "tokenizer_config.json: 100%"
          }
        },
        "0373802fe0e642a090ff6ea6236e9be2": {
          "model_module": "@jupyter-widgets/controls",
          "model_name": "FloatProgressModel",
          "model_module_version": "1.5.0",
          "state": {
            "_dom_classes": [],
            "_model_module": "@jupyter-widgets/controls",
            "_model_module_version": "1.5.0",
            "_model_name": "FloatProgressModel",
            "_view_count": null,
            "_view_module": "@jupyter-widgets/controls",
            "_view_module_version": "1.5.0",
            "_view_name": "ProgressView",
            "bar_style": "success",
            "description": "",
            "description_tooltip": null,
            "layout": "IPY_MODEL_8098cc7a10cf4e0aa6d1c96f1c12f3c2",
            "max": 28,
            "min": 0,
            "orientation": "horizontal",
            "style": "IPY_MODEL_1c0fcc44b72c43879ab4a0ac0aa18910",
            "value": 28
          }
        },
        "94cd4df5fc254dd39767363d1c40ca55": {
          "model_module": "@jupyter-widgets/controls",
          "model_name": "HTMLModel",
          "model_module_version": "1.5.0",
          "state": {
            "_dom_classes": [],
            "_model_module": "@jupyter-widgets/controls",
            "_model_module_version": "1.5.0",
            "_model_name": "HTMLModel",
            "_view_count": null,
            "_view_module": "@jupyter-widgets/controls",
            "_view_module_version": "1.5.0",
            "_view_name": "HTMLView",
            "description": "",
            "description_tooltip": null,
            "layout": "IPY_MODEL_7b4603fc952c4c049a551359ead4f647",
            "placeholder": "​",
            "style": "IPY_MODEL_4d4bf3b06ac34d4f91588a720f8d57da",
            "value": " 28.0/28.0 [00:00&lt;00:00, 818B/s]"
          }
        },
        "6d9b8983d0ab4741800b5c4fea263a61": {
          "model_module": "@jupyter-widgets/base",
          "model_name": "LayoutModel",
          "model_module_version": "1.2.0",
          "state": {
            "_model_module": "@jupyter-widgets/base",
            "_model_module_version": "1.2.0",
            "_model_name": "LayoutModel",
            "_view_count": null,
            "_view_module": "@jupyter-widgets/base",
            "_view_module_version": "1.2.0",
            "_view_name": "LayoutView",
            "align_content": null,
            "align_items": null,
            "align_self": null,
            "border": null,
            "bottom": null,
            "display": null,
            "flex": null,
            "flex_flow": null,
            "grid_area": null,
            "grid_auto_columns": null,
            "grid_auto_flow": null,
            "grid_auto_rows": null,
            "grid_column": null,
            "grid_gap": null,
            "grid_row": null,
            "grid_template_areas": null,
            "grid_template_columns": null,
            "grid_template_rows": null,
            "height": null,
            "justify_content": null,
            "justify_items": null,
            "left": null,
            "margin": null,
            "max_height": null,
            "max_width": null,
            "min_height": null,
            "min_width": null,
            "object_fit": null,
            "object_position": null,
            "order": null,
            "overflow": null,
            "overflow_x": null,
            "overflow_y": null,
            "padding": null,
            "right": null,
            "top": null,
            "visibility": null,
            "width": null
          }
        },
        "f6727d9d0d7c49dca4c24220fc15ab0f": {
          "model_module": "@jupyter-widgets/base",
          "model_name": "LayoutModel",
          "model_module_version": "1.2.0",
          "state": {
            "_model_module": "@jupyter-widgets/base",
            "_model_module_version": "1.2.0",
            "_model_name": "LayoutModel",
            "_view_count": null,
            "_view_module": "@jupyter-widgets/base",
            "_view_module_version": "1.2.0",
            "_view_name": "LayoutView",
            "align_content": null,
            "align_items": null,
            "align_self": null,
            "border": null,
            "bottom": null,
            "display": null,
            "flex": null,
            "flex_flow": null,
            "grid_area": null,
            "grid_auto_columns": null,
            "grid_auto_flow": null,
            "grid_auto_rows": null,
            "grid_column": null,
            "grid_gap": null,
            "grid_row": null,
            "grid_template_areas": null,
            "grid_template_columns": null,
            "grid_template_rows": null,
            "height": null,
            "justify_content": null,
            "justify_items": null,
            "left": null,
            "margin": null,
            "max_height": null,
            "max_width": null,
            "min_height": null,
            "min_width": null,
            "object_fit": null,
            "object_position": null,
            "order": null,
            "overflow": null,
            "overflow_x": null,
            "overflow_y": null,
            "padding": null,
            "right": null,
            "top": null,
            "visibility": null,
            "width": null
          }
        },
        "744dcaa15ebc461e8fcf298c152a8586": {
          "model_module": "@jupyter-widgets/controls",
          "model_name": "DescriptionStyleModel",
          "model_module_version": "1.5.0",
          "state": {
            "_model_module": "@jupyter-widgets/controls",
            "_model_module_version": "1.5.0",
            "_model_name": "DescriptionStyleModel",
            "_view_count": null,
            "_view_module": "@jupyter-widgets/base",
            "_view_module_version": "1.2.0",
            "_view_name": "StyleView",
            "description_width": ""
          }
        },
        "8098cc7a10cf4e0aa6d1c96f1c12f3c2": {
          "model_module": "@jupyter-widgets/base",
          "model_name": "LayoutModel",
          "model_module_version": "1.2.0",
          "state": {
            "_model_module": "@jupyter-widgets/base",
            "_model_module_version": "1.2.0",
            "_model_name": "LayoutModel",
            "_view_count": null,
            "_view_module": "@jupyter-widgets/base",
            "_view_module_version": "1.2.0",
            "_view_name": "LayoutView",
            "align_content": null,
            "align_items": null,
            "align_self": null,
            "border": null,
            "bottom": null,
            "display": null,
            "flex": null,
            "flex_flow": null,
            "grid_area": null,
            "grid_auto_columns": null,
            "grid_auto_flow": null,
            "grid_auto_rows": null,
            "grid_column": null,
            "grid_gap": null,
            "grid_row": null,
            "grid_template_areas": null,
            "grid_template_columns": null,
            "grid_template_rows": null,
            "height": null,
            "justify_content": null,
            "justify_items": null,
            "left": null,
            "margin": null,
            "max_height": null,
            "max_width": null,
            "min_height": null,
            "min_width": null,
            "object_fit": null,
            "object_position": null,
            "order": null,
            "overflow": null,
            "overflow_x": null,
            "overflow_y": null,
            "padding": null,
            "right": null,
            "top": null,
            "visibility": null,
            "width": null
          }
        },
        "1c0fcc44b72c43879ab4a0ac0aa18910": {
          "model_module": "@jupyter-widgets/controls",
          "model_name": "ProgressStyleModel",
          "model_module_version": "1.5.0",
          "state": {
            "_model_module": "@jupyter-widgets/controls",
            "_model_module_version": "1.5.0",
            "_model_name": "ProgressStyleModel",
            "_view_count": null,
            "_view_module": "@jupyter-widgets/base",
            "_view_module_version": "1.2.0",
            "_view_name": "StyleView",
            "bar_color": null,
            "description_width": ""
          }
        },
        "7b4603fc952c4c049a551359ead4f647": {
          "model_module": "@jupyter-widgets/base",
          "model_name": "LayoutModel",
          "model_module_version": "1.2.0",
          "state": {
            "_model_module": "@jupyter-widgets/base",
            "_model_module_version": "1.2.0",
            "_model_name": "LayoutModel",
            "_view_count": null,
            "_view_module": "@jupyter-widgets/base",
            "_view_module_version": "1.2.0",
            "_view_name": "LayoutView",
            "align_content": null,
            "align_items": null,
            "align_self": null,
            "border": null,
            "bottom": null,
            "display": null,
            "flex": null,
            "flex_flow": null,
            "grid_area": null,
            "grid_auto_columns": null,
            "grid_auto_flow": null,
            "grid_auto_rows": null,
            "grid_column": null,
            "grid_gap": null,
            "grid_row": null,
            "grid_template_areas": null,
            "grid_template_columns": null,
            "grid_template_rows": null,
            "height": null,
            "justify_content": null,
            "justify_items": null,
            "left": null,
            "margin": null,
            "max_height": null,
            "max_width": null,
            "min_height": null,
            "min_width": null,
            "object_fit": null,
            "object_position": null,
            "order": null,
            "overflow": null,
            "overflow_x": null,
            "overflow_y": null,
            "padding": null,
            "right": null,
            "top": null,
            "visibility": null,
            "width": null
          }
        },
        "4d4bf3b06ac34d4f91588a720f8d57da": {
          "model_module": "@jupyter-widgets/controls",
          "model_name": "DescriptionStyleModel",
          "model_module_version": "1.5.0",
          "state": {
            "_model_module": "@jupyter-widgets/controls",
            "_model_module_version": "1.5.0",
            "_model_name": "DescriptionStyleModel",
            "_view_count": null,
            "_view_module": "@jupyter-widgets/base",
            "_view_module_version": "1.2.0",
            "_view_name": "StyleView",
            "description_width": ""
          }
        },
        "e3595bfe3fd74c7d8863a3735336e32c": {
          "model_module": "@jupyter-widgets/controls",
          "model_name": "HBoxModel",
          "model_module_version": "1.5.0",
          "state": {
            "_dom_classes": [],
            "_model_module": "@jupyter-widgets/controls",
            "_model_module_version": "1.5.0",
            "_model_name": "HBoxModel",
            "_view_count": null,
            "_view_module": "@jupyter-widgets/controls",
            "_view_module_version": "1.5.0",
            "_view_name": "HBoxView",
            "box_style": "",
            "children": [
              "IPY_MODEL_738ef0db72d64419adc6813ca8655469",
              "IPY_MODEL_6c127a6be8c842abade3566ec916ffda",
              "IPY_MODEL_9db16fed76ef4f1da4f2c8d53c5df67a"
            ],
            "layout": "IPY_MODEL_fdf63be5afe44c5a81cfd19ca4792b53"
          }
        },
        "738ef0db72d64419adc6813ca8655469": {
          "model_module": "@jupyter-widgets/controls",
          "model_name": "HTMLModel",
          "model_module_version": "1.5.0",
          "state": {
            "_dom_classes": [],
            "_model_module": "@jupyter-widgets/controls",
            "_model_module_version": "1.5.0",
            "_model_name": "HTMLModel",
            "_view_count": null,
            "_view_module": "@jupyter-widgets/controls",
            "_view_module_version": "1.5.0",
            "_view_name": "HTMLView",
            "description": "",
            "description_tooltip": null,
            "layout": "IPY_MODEL_ec1730ab3f5c4e4e9c0f6644580e4be6",
            "placeholder": "​",
            "style": "IPY_MODEL_f7451459928741f8a801322e349270a0",
            "value": "vocab.txt: 100%"
          }
        },
        "6c127a6be8c842abade3566ec916ffda": {
          "model_module": "@jupyter-widgets/controls",
          "model_name": "FloatProgressModel",
          "model_module_version": "1.5.0",
          "state": {
            "_dom_classes": [],
            "_model_module": "@jupyter-widgets/controls",
            "_model_module_version": "1.5.0",
            "_model_name": "FloatProgressModel",
            "_view_count": null,
            "_view_module": "@jupyter-widgets/controls",
            "_view_module_version": "1.5.0",
            "_view_name": "ProgressView",
            "bar_style": "success",
            "description": "",
            "description_tooltip": null,
            "layout": "IPY_MODEL_99f108f7b1df47f88313fc04096549b9",
            "max": 231508,
            "min": 0,
            "orientation": "horizontal",
            "style": "IPY_MODEL_274cbf9df3e3497f89c240dbaa49aa67",
            "value": 231508
          }
        },
        "9db16fed76ef4f1da4f2c8d53c5df67a": {
          "model_module": "@jupyter-widgets/controls",
          "model_name": "HTMLModel",
          "model_module_version": "1.5.0",
          "state": {
            "_dom_classes": [],
            "_model_module": "@jupyter-widgets/controls",
            "_model_module_version": "1.5.0",
            "_model_name": "HTMLModel",
            "_view_count": null,
            "_view_module": "@jupyter-widgets/controls",
            "_view_module_version": "1.5.0",
            "_view_name": "HTMLView",
            "description": "",
            "description_tooltip": null,
            "layout": "IPY_MODEL_3a8576e1e6e847edad04f000c3c4ab4b",
            "placeholder": "​",
            "style": "IPY_MODEL_94aabcc5b6d642edb772453111f93060",
            "value": " 232k/232k [00:00&lt;00:00, 2.44MB/s]"
          }
        },
        "fdf63be5afe44c5a81cfd19ca4792b53": {
          "model_module": "@jupyter-widgets/base",
          "model_name": "LayoutModel",
          "model_module_version": "1.2.0",
          "state": {
            "_model_module": "@jupyter-widgets/base",
            "_model_module_version": "1.2.0",
            "_model_name": "LayoutModel",
            "_view_count": null,
            "_view_module": "@jupyter-widgets/base",
            "_view_module_version": "1.2.0",
            "_view_name": "LayoutView",
            "align_content": null,
            "align_items": null,
            "align_self": null,
            "border": null,
            "bottom": null,
            "display": null,
            "flex": null,
            "flex_flow": null,
            "grid_area": null,
            "grid_auto_columns": null,
            "grid_auto_flow": null,
            "grid_auto_rows": null,
            "grid_column": null,
            "grid_gap": null,
            "grid_row": null,
            "grid_template_areas": null,
            "grid_template_columns": null,
            "grid_template_rows": null,
            "height": null,
            "justify_content": null,
            "justify_items": null,
            "left": null,
            "margin": null,
            "max_height": null,
            "max_width": null,
            "min_height": null,
            "min_width": null,
            "object_fit": null,
            "object_position": null,
            "order": null,
            "overflow": null,
            "overflow_x": null,
            "overflow_y": null,
            "padding": null,
            "right": null,
            "top": null,
            "visibility": null,
            "width": null
          }
        },
        "ec1730ab3f5c4e4e9c0f6644580e4be6": {
          "model_module": "@jupyter-widgets/base",
          "model_name": "LayoutModel",
          "model_module_version": "1.2.0",
          "state": {
            "_model_module": "@jupyter-widgets/base",
            "_model_module_version": "1.2.0",
            "_model_name": "LayoutModel",
            "_view_count": null,
            "_view_module": "@jupyter-widgets/base",
            "_view_module_version": "1.2.0",
            "_view_name": "LayoutView",
            "align_content": null,
            "align_items": null,
            "align_self": null,
            "border": null,
            "bottom": null,
            "display": null,
            "flex": null,
            "flex_flow": null,
            "grid_area": null,
            "grid_auto_columns": null,
            "grid_auto_flow": null,
            "grid_auto_rows": null,
            "grid_column": null,
            "grid_gap": null,
            "grid_row": null,
            "grid_template_areas": null,
            "grid_template_columns": null,
            "grid_template_rows": null,
            "height": null,
            "justify_content": null,
            "justify_items": null,
            "left": null,
            "margin": null,
            "max_height": null,
            "max_width": null,
            "min_height": null,
            "min_width": null,
            "object_fit": null,
            "object_position": null,
            "order": null,
            "overflow": null,
            "overflow_x": null,
            "overflow_y": null,
            "padding": null,
            "right": null,
            "top": null,
            "visibility": null,
            "width": null
          }
        },
        "f7451459928741f8a801322e349270a0": {
          "model_module": "@jupyter-widgets/controls",
          "model_name": "DescriptionStyleModel",
          "model_module_version": "1.5.0",
          "state": {
            "_model_module": "@jupyter-widgets/controls",
            "_model_module_version": "1.5.0",
            "_model_name": "DescriptionStyleModel",
            "_view_count": null,
            "_view_module": "@jupyter-widgets/base",
            "_view_module_version": "1.2.0",
            "_view_name": "StyleView",
            "description_width": ""
          }
        },
        "99f108f7b1df47f88313fc04096549b9": {
          "model_module": "@jupyter-widgets/base",
          "model_name": "LayoutModel",
          "model_module_version": "1.2.0",
          "state": {
            "_model_module": "@jupyter-widgets/base",
            "_model_module_version": "1.2.0",
            "_model_name": "LayoutModel",
            "_view_count": null,
            "_view_module": "@jupyter-widgets/base",
            "_view_module_version": "1.2.0",
            "_view_name": "LayoutView",
            "align_content": null,
            "align_items": null,
            "align_self": null,
            "border": null,
            "bottom": null,
            "display": null,
            "flex": null,
            "flex_flow": null,
            "grid_area": null,
            "grid_auto_columns": null,
            "grid_auto_flow": null,
            "grid_auto_rows": null,
            "grid_column": null,
            "grid_gap": null,
            "grid_row": null,
            "grid_template_areas": null,
            "grid_template_columns": null,
            "grid_template_rows": null,
            "height": null,
            "justify_content": null,
            "justify_items": null,
            "left": null,
            "margin": null,
            "max_height": null,
            "max_width": null,
            "min_height": null,
            "min_width": null,
            "object_fit": null,
            "object_position": null,
            "order": null,
            "overflow": null,
            "overflow_x": null,
            "overflow_y": null,
            "padding": null,
            "right": null,
            "top": null,
            "visibility": null,
            "width": null
          }
        },
        "274cbf9df3e3497f89c240dbaa49aa67": {
          "model_module": "@jupyter-widgets/controls",
          "model_name": "ProgressStyleModel",
          "model_module_version": "1.5.0",
          "state": {
            "_model_module": "@jupyter-widgets/controls",
            "_model_module_version": "1.5.0",
            "_model_name": "ProgressStyleModel",
            "_view_count": null,
            "_view_module": "@jupyter-widgets/base",
            "_view_module_version": "1.2.0",
            "_view_name": "StyleView",
            "bar_color": null,
            "description_width": ""
          }
        },
        "3a8576e1e6e847edad04f000c3c4ab4b": {
          "model_module": "@jupyter-widgets/base",
          "model_name": "LayoutModel",
          "model_module_version": "1.2.0",
          "state": {
            "_model_module": "@jupyter-widgets/base",
            "_model_module_version": "1.2.0",
            "_model_name": "LayoutModel",
            "_view_count": null,
            "_view_module": "@jupyter-widgets/base",
            "_view_module_version": "1.2.0",
            "_view_name": "LayoutView",
            "align_content": null,
            "align_items": null,
            "align_self": null,
            "border": null,
            "bottom": null,
            "display": null,
            "flex": null,
            "flex_flow": null,
            "grid_area": null,
            "grid_auto_columns": null,
            "grid_auto_flow": null,
            "grid_auto_rows": null,
            "grid_column": null,
            "grid_gap": null,
            "grid_row": null,
            "grid_template_areas": null,
            "grid_template_columns": null,
            "grid_template_rows": null,
            "height": null,
            "justify_content": null,
            "justify_items": null,
            "left": null,
            "margin": null,
            "max_height": null,
            "max_width": null,
            "min_height": null,
            "min_width": null,
            "object_fit": null,
            "object_position": null,
            "order": null,
            "overflow": null,
            "overflow_x": null,
            "overflow_y": null,
            "padding": null,
            "right": null,
            "top": null,
            "visibility": null,
            "width": null
          }
        },
        "94aabcc5b6d642edb772453111f93060": {
          "model_module": "@jupyter-widgets/controls",
          "model_name": "DescriptionStyleModel",
          "model_module_version": "1.5.0",
          "state": {
            "_model_module": "@jupyter-widgets/controls",
            "_model_module_version": "1.5.0",
            "_model_name": "DescriptionStyleModel",
            "_view_count": null,
            "_view_module": "@jupyter-widgets/base",
            "_view_module_version": "1.2.0",
            "_view_name": "StyleView",
            "description_width": ""
          }
        },
        "0f51a644292442c488ff9d267d9dcaf5": {
          "model_module": "@jupyter-widgets/controls",
          "model_name": "HBoxModel",
          "model_module_version": "1.5.0",
          "state": {
            "_dom_classes": [],
            "_model_module": "@jupyter-widgets/controls",
            "_model_module_version": "1.5.0",
            "_model_name": "HBoxModel",
            "_view_count": null,
            "_view_module": "@jupyter-widgets/controls",
            "_view_module_version": "1.5.0",
            "_view_name": "HBoxView",
            "box_style": "",
            "children": [
              "IPY_MODEL_452966b9d2bd49538a14560cd56bd527",
              "IPY_MODEL_2b336f7503694765919c425e5d50b024",
              "IPY_MODEL_1a890546175a410ea245925b491911fb"
            ],
            "layout": "IPY_MODEL_6f23c2f8ed7d40289560be6ae8174615"
          }
        },
        "452966b9d2bd49538a14560cd56bd527": {
          "model_module": "@jupyter-widgets/controls",
          "model_name": "HTMLModel",
          "model_module_version": "1.5.0",
          "state": {
            "_dom_classes": [],
            "_model_module": "@jupyter-widgets/controls",
            "_model_module_version": "1.5.0",
            "_model_name": "HTMLModel",
            "_view_count": null,
            "_view_module": "@jupyter-widgets/controls",
            "_view_module_version": "1.5.0",
            "_view_name": "HTMLView",
            "description": "",
            "description_tooltip": null,
            "layout": "IPY_MODEL_963b73ce65fe41268aba8528e489c5ec",
            "placeholder": "​",
            "style": "IPY_MODEL_078478db1d2b40ecac749c87837eadae",
            "value": "tokenizer.json: 100%"
          }
        },
        "2b336f7503694765919c425e5d50b024": {
          "model_module": "@jupyter-widgets/controls",
          "model_name": "FloatProgressModel",
          "model_module_version": "1.5.0",
          "state": {
            "_dom_classes": [],
            "_model_module": "@jupyter-widgets/controls",
            "_model_module_version": "1.5.0",
            "_model_name": "FloatProgressModel",
            "_view_count": null,
            "_view_module": "@jupyter-widgets/controls",
            "_view_module_version": "1.5.0",
            "_view_name": "ProgressView",
            "bar_style": "success",
            "description": "",
            "description_tooltip": null,
            "layout": "IPY_MODEL_adeaf4cf1dec4f07bad4648cc571aea0",
            "max": 466062,
            "min": 0,
            "orientation": "horizontal",
            "style": "IPY_MODEL_62db23a62ad64a4bb62f31dbd43f15af",
            "value": 466062
          }
        },
        "1a890546175a410ea245925b491911fb": {
          "model_module": "@jupyter-widgets/controls",
          "model_name": "HTMLModel",
          "model_module_version": "1.5.0",
          "state": {
            "_dom_classes": [],
            "_model_module": "@jupyter-widgets/controls",
            "_model_module_version": "1.5.0",
            "_model_name": "HTMLModel",
            "_view_count": null,
            "_view_module": "@jupyter-widgets/controls",
            "_view_module_version": "1.5.0",
            "_view_name": "HTMLView",
            "description": "",
            "description_tooltip": null,
            "layout": "IPY_MODEL_20484c060bd94a7db40aece2cb90d56c",
            "placeholder": "​",
            "style": "IPY_MODEL_e52184759f024988829179a65b8b1506",
            "value": " 466k/466k [00:00&lt;00:00, 9.00MB/s]"
          }
        },
        "6f23c2f8ed7d40289560be6ae8174615": {
          "model_module": "@jupyter-widgets/base",
          "model_name": "LayoutModel",
          "model_module_version": "1.2.0",
          "state": {
            "_model_module": "@jupyter-widgets/base",
            "_model_module_version": "1.2.0",
            "_model_name": "LayoutModel",
            "_view_count": null,
            "_view_module": "@jupyter-widgets/base",
            "_view_module_version": "1.2.0",
            "_view_name": "LayoutView",
            "align_content": null,
            "align_items": null,
            "align_self": null,
            "border": null,
            "bottom": null,
            "display": null,
            "flex": null,
            "flex_flow": null,
            "grid_area": null,
            "grid_auto_columns": null,
            "grid_auto_flow": null,
            "grid_auto_rows": null,
            "grid_column": null,
            "grid_gap": null,
            "grid_row": null,
            "grid_template_areas": null,
            "grid_template_columns": null,
            "grid_template_rows": null,
            "height": null,
            "justify_content": null,
            "justify_items": null,
            "left": null,
            "margin": null,
            "max_height": null,
            "max_width": null,
            "min_height": null,
            "min_width": null,
            "object_fit": null,
            "object_position": null,
            "order": null,
            "overflow": null,
            "overflow_x": null,
            "overflow_y": null,
            "padding": null,
            "right": null,
            "top": null,
            "visibility": null,
            "width": null
          }
        },
        "963b73ce65fe41268aba8528e489c5ec": {
          "model_module": "@jupyter-widgets/base",
          "model_name": "LayoutModel",
          "model_module_version": "1.2.0",
          "state": {
            "_model_module": "@jupyter-widgets/base",
            "_model_module_version": "1.2.0",
            "_model_name": "LayoutModel",
            "_view_count": null,
            "_view_module": "@jupyter-widgets/base",
            "_view_module_version": "1.2.0",
            "_view_name": "LayoutView",
            "align_content": null,
            "align_items": null,
            "align_self": null,
            "border": null,
            "bottom": null,
            "display": null,
            "flex": null,
            "flex_flow": null,
            "grid_area": null,
            "grid_auto_columns": null,
            "grid_auto_flow": null,
            "grid_auto_rows": null,
            "grid_column": null,
            "grid_gap": null,
            "grid_row": null,
            "grid_template_areas": null,
            "grid_template_columns": null,
            "grid_template_rows": null,
            "height": null,
            "justify_content": null,
            "justify_items": null,
            "left": null,
            "margin": null,
            "max_height": null,
            "max_width": null,
            "min_height": null,
            "min_width": null,
            "object_fit": null,
            "object_position": null,
            "order": null,
            "overflow": null,
            "overflow_x": null,
            "overflow_y": null,
            "padding": null,
            "right": null,
            "top": null,
            "visibility": null,
            "width": null
          }
        },
        "078478db1d2b40ecac749c87837eadae": {
          "model_module": "@jupyter-widgets/controls",
          "model_name": "DescriptionStyleModel",
          "model_module_version": "1.5.0",
          "state": {
            "_model_module": "@jupyter-widgets/controls",
            "_model_module_version": "1.5.0",
            "_model_name": "DescriptionStyleModel",
            "_view_count": null,
            "_view_module": "@jupyter-widgets/base",
            "_view_module_version": "1.2.0",
            "_view_name": "StyleView",
            "description_width": ""
          }
        },
        "adeaf4cf1dec4f07bad4648cc571aea0": {
          "model_module": "@jupyter-widgets/base",
          "model_name": "LayoutModel",
          "model_module_version": "1.2.0",
          "state": {
            "_model_module": "@jupyter-widgets/base",
            "_model_module_version": "1.2.0",
            "_model_name": "LayoutModel",
            "_view_count": null,
            "_view_module": "@jupyter-widgets/base",
            "_view_module_version": "1.2.0",
            "_view_name": "LayoutView",
            "align_content": null,
            "align_items": null,
            "align_self": null,
            "border": null,
            "bottom": null,
            "display": null,
            "flex": null,
            "flex_flow": null,
            "grid_area": null,
            "grid_auto_columns": null,
            "grid_auto_flow": null,
            "grid_auto_rows": null,
            "grid_column": null,
            "grid_gap": null,
            "grid_row": null,
            "grid_template_areas": null,
            "grid_template_columns": null,
            "grid_template_rows": null,
            "height": null,
            "justify_content": null,
            "justify_items": null,
            "left": null,
            "margin": null,
            "max_height": null,
            "max_width": null,
            "min_height": null,
            "min_width": null,
            "object_fit": null,
            "object_position": null,
            "order": null,
            "overflow": null,
            "overflow_x": null,
            "overflow_y": null,
            "padding": null,
            "right": null,
            "top": null,
            "visibility": null,
            "width": null
          }
        },
        "62db23a62ad64a4bb62f31dbd43f15af": {
          "model_module": "@jupyter-widgets/controls",
          "model_name": "ProgressStyleModel",
          "model_module_version": "1.5.0",
          "state": {
            "_model_module": "@jupyter-widgets/controls",
            "_model_module_version": "1.5.0",
            "_model_name": "ProgressStyleModel",
            "_view_count": null,
            "_view_module": "@jupyter-widgets/base",
            "_view_module_version": "1.2.0",
            "_view_name": "StyleView",
            "bar_color": null,
            "description_width": ""
          }
        },
        "20484c060bd94a7db40aece2cb90d56c": {
          "model_module": "@jupyter-widgets/base",
          "model_name": "LayoutModel",
          "model_module_version": "1.2.0",
          "state": {
            "_model_module": "@jupyter-widgets/base",
            "_model_module_version": "1.2.0",
            "_model_name": "LayoutModel",
            "_view_count": null,
            "_view_module": "@jupyter-widgets/base",
            "_view_module_version": "1.2.0",
            "_view_name": "LayoutView",
            "align_content": null,
            "align_items": null,
            "align_self": null,
            "border": null,
            "bottom": null,
            "display": null,
            "flex": null,
            "flex_flow": null,
            "grid_area": null,
            "grid_auto_columns": null,
            "grid_auto_flow": null,
            "grid_auto_rows": null,
            "grid_column": null,
            "grid_gap": null,
            "grid_row": null,
            "grid_template_areas": null,
            "grid_template_columns": null,
            "grid_template_rows": null,
            "height": null,
            "justify_content": null,
            "justify_items": null,
            "left": null,
            "margin": null,
            "max_height": null,
            "max_width": null,
            "min_height": null,
            "min_width": null,
            "object_fit": null,
            "object_position": null,
            "order": null,
            "overflow": null,
            "overflow_x": null,
            "overflow_y": null,
            "padding": null,
            "right": null,
            "top": null,
            "visibility": null,
            "width": null
          }
        },
        "e52184759f024988829179a65b8b1506": {
          "model_module": "@jupyter-widgets/controls",
          "model_name": "DescriptionStyleModel",
          "model_module_version": "1.5.0",
          "state": {
            "_model_module": "@jupyter-widgets/controls",
            "_model_module_version": "1.5.0",
            "_model_name": "DescriptionStyleModel",
            "_view_count": null,
            "_view_module": "@jupyter-widgets/base",
            "_view_module_version": "1.2.0",
            "_view_name": "StyleView",
            "description_width": ""
          }
        },
        "df58ccf0637f4ab6b769f168f12e0945": {
          "model_module": "@jupyter-widgets/controls",
          "model_name": "HBoxModel",
          "model_module_version": "1.5.0",
          "state": {
            "_dom_classes": [],
            "_model_module": "@jupyter-widgets/controls",
            "_model_module_version": "1.5.0",
            "_model_name": "HBoxModel",
            "_view_count": null,
            "_view_module": "@jupyter-widgets/controls",
            "_view_module_version": "1.5.0",
            "_view_name": "HBoxView",
            "box_style": "",
            "children": [
              "IPY_MODEL_85ce4659ac9f45f8bcb30e652edb9018",
              "IPY_MODEL_ad708fc1c89743f38bb46e7222705ed5",
              "IPY_MODEL_77848498bc2a4befad6427fadf20535e"
            ],
            "layout": "IPY_MODEL_937cfe9814e54779aec5a5b9f7885a7a"
          }
        },
        "85ce4659ac9f45f8bcb30e652edb9018": {
          "model_module": "@jupyter-widgets/controls",
          "model_name": "HTMLModel",
          "model_module_version": "1.5.0",
          "state": {
            "_dom_classes": [],
            "_model_module": "@jupyter-widgets/controls",
            "_model_module_version": "1.5.0",
            "_model_name": "HTMLModel",
            "_view_count": null,
            "_view_module": "@jupyter-widgets/controls",
            "_view_module_version": "1.5.0",
            "_view_name": "HTMLView",
            "description": "",
            "description_tooltip": null,
            "layout": "IPY_MODEL_a933e52075394ee9a475300064fc6100",
            "placeholder": "​",
            "style": "IPY_MODEL_764273f26c034588b7eca112ba1a4969",
            "value": "config.json: 100%"
          }
        },
        "ad708fc1c89743f38bb46e7222705ed5": {
          "model_module": "@jupyter-widgets/controls",
          "model_name": "FloatProgressModel",
          "model_module_version": "1.5.0",
          "state": {
            "_dom_classes": [],
            "_model_module": "@jupyter-widgets/controls",
            "_model_module_version": "1.5.0",
            "_model_name": "FloatProgressModel",
            "_view_count": null,
            "_view_module": "@jupyter-widgets/controls",
            "_view_module_version": "1.5.0",
            "_view_name": "ProgressView",
            "bar_style": "success",
            "description": "",
            "description_tooltip": null,
            "layout": "IPY_MODEL_5f3c3a3ebb1b45c294d98cd6259aca21",
            "max": 570,
            "min": 0,
            "orientation": "horizontal",
            "style": "IPY_MODEL_c4502b816aae4b2e80fcbc47fc99084a",
            "value": 570
          }
        },
        "77848498bc2a4befad6427fadf20535e": {
          "model_module": "@jupyter-widgets/controls",
          "model_name": "HTMLModel",
          "model_module_version": "1.5.0",
          "state": {
            "_dom_classes": [],
            "_model_module": "@jupyter-widgets/controls",
            "_model_module_version": "1.5.0",
            "_model_name": "HTMLModel",
            "_view_count": null,
            "_view_module": "@jupyter-widgets/controls",
            "_view_module_version": "1.5.0",
            "_view_name": "HTMLView",
            "description": "",
            "description_tooltip": null,
            "layout": "IPY_MODEL_4ceaee7dff734152b7915e2e03b18288",
            "placeholder": "​",
            "style": "IPY_MODEL_0e4ff86f18e841daacc1039e18380619",
            "value": " 570/570 [00:00&lt;00:00, 11.0kB/s]"
          }
        },
        "937cfe9814e54779aec5a5b9f7885a7a": {
          "model_module": "@jupyter-widgets/base",
          "model_name": "LayoutModel",
          "model_module_version": "1.2.0",
          "state": {
            "_model_module": "@jupyter-widgets/base",
            "_model_module_version": "1.2.0",
            "_model_name": "LayoutModel",
            "_view_count": null,
            "_view_module": "@jupyter-widgets/base",
            "_view_module_version": "1.2.0",
            "_view_name": "LayoutView",
            "align_content": null,
            "align_items": null,
            "align_self": null,
            "border": null,
            "bottom": null,
            "display": null,
            "flex": null,
            "flex_flow": null,
            "grid_area": null,
            "grid_auto_columns": null,
            "grid_auto_flow": null,
            "grid_auto_rows": null,
            "grid_column": null,
            "grid_gap": null,
            "grid_row": null,
            "grid_template_areas": null,
            "grid_template_columns": null,
            "grid_template_rows": null,
            "height": null,
            "justify_content": null,
            "justify_items": null,
            "left": null,
            "margin": null,
            "max_height": null,
            "max_width": null,
            "min_height": null,
            "min_width": null,
            "object_fit": null,
            "object_position": null,
            "order": null,
            "overflow": null,
            "overflow_x": null,
            "overflow_y": null,
            "padding": null,
            "right": null,
            "top": null,
            "visibility": null,
            "width": null
          }
        },
        "a933e52075394ee9a475300064fc6100": {
          "model_module": "@jupyter-widgets/base",
          "model_name": "LayoutModel",
          "model_module_version": "1.2.0",
          "state": {
            "_model_module": "@jupyter-widgets/base",
            "_model_module_version": "1.2.0",
            "_model_name": "LayoutModel",
            "_view_count": null,
            "_view_module": "@jupyter-widgets/base",
            "_view_module_version": "1.2.0",
            "_view_name": "LayoutView",
            "align_content": null,
            "align_items": null,
            "align_self": null,
            "border": null,
            "bottom": null,
            "display": null,
            "flex": null,
            "flex_flow": null,
            "grid_area": null,
            "grid_auto_columns": null,
            "grid_auto_flow": null,
            "grid_auto_rows": null,
            "grid_column": null,
            "grid_gap": null,
            "grid_row": null,
            "grid_template_areas": null,
            "grid_template_columns": null,
            "grid_template_rows": null,
            "height": null,
            "justify_content": null,
            "justify_items": null,
            "left": null,
            "margin": null,
            "max_height": null,
            "max_width": null,
            "min_height": null,
            "min_width": null,
            "object_fit": null,
            "object_position": null,
            "order": null,
            "overflow": null,
            "overflow_x": null,
            "overflow_y": null,
            "padding": null,
            "right": null,
            "top": null,
            "visibility": null,
            "width": null
          }
        },
        "764273f26c034588b7eca112ba1a4969": {
          "model_module": "@jupyter-widgets/controls",
          "model_name": "DescriptionStyleModel",
          "model_module_version": "1.5.0",
          "state": {
            "_model_module": "@jupyter-widgets/controls",
            "_model_module_version": "1.5.0",
            "_model_name": "DescriptionStyleModel",
            "_view_count": null,
            "_view_module": "@jupyter-widgets/base",
            "_view_module_version": "1.2.0",
            "_view_name": "StyleView",
            "description_width": ""
          }
        },
        "5f3c3a3ebb1b45c294d98cd6259aca21": {
          "model_module": "@jupyter-widgets/base",
          "model_name": "LayoutModel",
          "model_module_version": "1.2.0",
          "state": {
            "_model_module": "@jupyter-widgets/base",
            "_model_module_version": "1.2.0",
            "_model_name": "LayoutModel",
            "_view_count": null,
            "_view_module": "@jupyter-widgets/base",
            "_view_module_version": "1.2.0",
            "_view_name": "LayoutView",
            "align_content": null,
            "align_items": null,
            "align_self": null,
            "border": null,
            "bottom": null,
            "display": null,
            "flex": null,
            "flex_flow": null,
            "grid_area": null,
            "grid_auto_columns": null,
            "grid_auto_flow": null,
            "grid_auto_rows": null,
            "grid_column": null,
            "grid_gap": null,
            "grid_row": null,
            "grid_template_areas": null,
            "grid_template_columns": null,
            "grid_template_rows": null,
            "height": null,
            "justify_content": null,
            "justify_items": null,
            "left": null,
            "margin": null,
            "max_height": null,
            "max_width": null,
            "min_height": null,
            "min_width": null,
            "object_fit": null,
            "object_position": null,
            "order": null,
            "overflow": null,
            "overflow_x": null,
            "overflow_y": null,
            "padding": null,
            "right": null,
            "top": null,
            "visibility": null,
            "width": null
          }
        },
        "c4502b816aae4b2e80fcbc47fc99084a": {
          "model_module": "@jupyter-widgets/controls",
          "model_name": "ProgressStyleModel",
          "model_module_version": "1.5.0",
          "state": {
            "_model_module": "@jupyter-widgets/controls",
            "_model_module_version": "1.5.0",
            "_model_name": "ProgressStyleModel",
            "_view_count": null,
            "_view_module": "@jupyter-widgets/base",
            "_view_module_version": "1.2.0",
            "_view_name": "StyleView",
            "bar_color": null,
            "description_width": ""
          }
        },
        "4ceaee7dff734152b7915e2e03b18288": {
          "model_module": "@jupyter-widgets/base",
          "model_name": "LayoutModel",
          "model_module_version": "1.2.0",
          "state": {
            "_model_module": "@jupyter-widgets/base",
            "_model_module_version": "1.2.0",
            "_model_name": "LayoutModel",
            "_view_count": null,
            "_view_module": "@jupyter-widgets/base",
            "_view_module_version": "1.2.0",
            "_view_name": "LayoutView",
            "align_content": null,
            "align_items": null,
            "align_self": null,
            "border": null,
            "bottom": null,
            "display": null,
            "flex": null,
            "flex_flow": null,
            "grid_area": null,
            "grid_auto_columns": null,
            "grid_auto_flow": null,
            "grid_auto_rows": null,
            "grid_column": null,
            "grid_gap": null,
            "grid_row": null,
            "grid_template_areas": null,
            "grid_template_columns": null,
            "grid_template_rows": null,
            "height": null,
            "justify_content": null,
            "justify_items": null,
            "left": null,
            "margin": null,
            "max_height": null,
            "max_width": null,
            "min_height": null,
            "min_width": null,
            "object_fit": null,
            "object_position": null,
            "order": null,
            "overflow": null,
            "overflow_x": null,
            "overflow_y": null,
            "padding": null,
            "right": null,
            "top": null,
            "visibility": null,
            "width": null
          }
        },
        "0e4ff86f18e841daacc1039e18380619": {
          "model_module": "@jupyter-widgets/controls",
          "model_name": "DescriptionStyleModel",
          "model_module_version": "1.5.0",
          "state": {
            "_model_module": "@jupyter-widgets/controls",
            "_model_module_version": "1.5.0",
            "_model_name": "DescriptionStyleModel",
            "_view_count": null,
            "_view_module": "@jupyter-widgets/base",
            "_view_module_version": "1.2.0",
            "_view_name": "StyleView",
            "description_width": ""
          }
        },
        "e26e45b35d4b4c60bc75e36028aa826a": {
          "model_module": "@jupyter-widgets/controls",
          "model_name": "HBoxModel",
          "model_module_version": "1.5.0",
          "state": {
            "_dom_classes": [],
            "_model_module": "@jupyter-widgets/controls",
            "_model_module_version": "1.5.0",
            "_model_name": "HBoxModel",
            "_view_count": null,
            "_view_module": "@jupyter-widgets/controls",
            "_view_module_version": "1.5.0",
            "_view_name": "HBoxView",
            "box_style": "",
            "children": [
              "IPY_MODEL_ac43cbfab8f64c88ab27cc9bd7471ce0",
              "IPY_MODEL_dbfda890eb9948f7a0d96a7c231e3d27",
              "IPY_MODEL_050d5b5538644b43964a363e2a0345d1"
            ],
            "layout": "IPY_MODEL_394bc6df329e432384444a3421463aac"
          }
        },
        "ac43cbfab8f64c88ab27cc9bd7471ce0": {
          "model_module": "@jupyter-widgets/controls",
          "model_name": "HTMLModel",
          "model_module_version": "1.5.0",
          "state": {
            "_dom_classes": [],
            "_model_module": "@jupyter-widgets/controls",
            "_model_module_version": "1.5.0",
            "_model_name": "HTMLModel",
            "_view_count": null,
            "_view_module": "@jupyter-widgets/controls",
            "_view_module_version": "1.5.0",
            "_view_name": "HTMLView",
            "description": "",
            "description_tooltip": null,
            "layout": "IPY_MODEL_4338c8d888634dc49f4066e4145048d1",
            "placeholder": "​",
            "style": "IPY_MODEL_1147ef54dbf943dca889c855a8ff89ed",
            "value": "model.safetensors: 100%"
          }
        },
        "dbfda890eb9948f7a0d96a7c231e3d27": {
          "model_module": "@jupyter-widgets/controls",
          "model_name": "FloatProgressModel",
          "model_module_version": "1.5.0",
          "state": {
            "_dom_classes": [],
            "_model_module": "@jupyter-widgets/controls",
            "_model_module_version": "1.5.0",
            "_model_name": "FloatProgressModel",
            "_view_count": null,
            "_view_module": "@jupyter-widgets/controls",
            "_view_module_version": "1.5.0",
            "_view_name": "ProgressView",
            "bar_style": "success",
            "description": "",
            "description_tooltip": null,
            "layout": "IPY_MODEL_3c5eb99a3f17405685b46b64d6b12f90",
            "max": 440449768,
            "min": 0,
            "orientation": "horizontal",
            "style": "IPY_MODEL_37dc26e262414d54a1ffa3b11af6e974",
            "value": 440449768
          }
        },
        "050d5b5538644b43964a363e2a0345d1": {
          "model_module": "@jupyter-widgets/controls",
          "model_name": "HTMLModel",
          "model_module_version": "1.5.0",
          "state": {
            "_dom_classes": [],
            "_model_module": "@jupyter-widgets/controls",
            "_model_module_version": "1.5.0",
            "_model_name": "HTMLModel",
            "_view_count": null,
            "_view_module": "@jupyter-widgets/controls",
            "_view_module_version": "1.5.0",
            "_view_name": "HTMLView",
            "description": "",
            "description_tooltip": null,
            "layout": "IPY_MODEL_b4e833a1c5174c0e9c198fc5fb3f54f3",
            "placeholder": "​",
            "style": "IPY_MODEL_73e0d23fd3fa4d079c82fc9c00879977",
            "value": " 440M/440M [00:05&lt;00:00, 67.9MB/s]"
          }
        },
        "394bc6df329e432384444a3421463aac": {
          "model_module": "@jupyter-widgets/base",
          "model_name": "LayoutModel",
          "model_module_version": "1.2.0",
          "state": {
            "_model_module": "@jupyter-widgets/base",
            "_model_module_version": "1.2.0",
            "_model_name": "LayoutModel",
            "_view_count": null,
            "_view_module": "@jupyter-widgets/base",
            "_view_module_version": "1.2.0",
            "_view_name": "LayoutView",
            "align_content": null,
            "align_items": null,
            "align_self": null,
            "border": null,
            "bottom": null,
            "display": null,
            "flex": null,
            "flex_flow": null,
            "grid_area": null,
            "grid_auto_columns": null,
            "grid_auto_flow": null,
            "grid_auto_rows": null,
            "grid_column": null,
            "grid_gap": null,
            "grid_row": null,
            "grid_template_areas": null,
            "grid_template_columns": null,
            "grid_template_rows": null,
            "height": null,
            "justify_content": null,
            "justify_items": null,
            "left": null,
            "margin": null,
            "max_height": null,
            "max_width": null,
            "min_height": null,
            "min_width": null,
            "object_fit": null,
            "object_position": null,
            "order": null,
            "overflow": null,
            "overflow_x": null,
            "overflow_y": null,
            "padding": null,
            "right": null,
            "top": null,
            "visibility": null,
            "width": null
          }
        },
        "4338c8d888634dc49f4066e4145048d1": {
          "model_module": "@jupyter-widgets/base",
          "model_name": "LayoutModel",
          "model_module_version": "1.2.0",
          "state": {
            "_model_module": "@jupyter-widgets/base",
            "_model_module_version": "1.2.0",
            "_model_name": "LayoutModel",
            "_view_count": null,
            "_view_module": "@jupyter-widgets/base",
            "_view_module_version": "1.2.0",
            "_view_name": "LayoutView",
            "align_content": null,
            "align_items": null,
            "align_self": null,
            "border": null,
            "bottom": null,
            "display": null,
            "flex": null,
            "flex_flow": null,
            "grid_area": null,
            "grid_auto_columns": null,
            "grid_auto_flow": null,
            "grid_auto_rows": null,
            "grid_column": null,
            "grid_gap": null,
            "grid_row": null,
            "grid_template_areas": null,
            "grid_template_columns": null,
            "grid_template_rows": null,
            "height": null,
            "justify_content": null,
            "justify_items": null,
            "left": null,
            "margin": null,
            "max_height": null,
            "max_width": null,
            "min_height": null,
            "min_width": null,
            "object_fit": null,
            "object_position": null,
            "order": null,
            "overflow": null,
            "overflow_x": null,
            "overflow_y": null,
            "padding": null,
            "right": null,
            "top": null,
            "visibility": null,
            "width": null
          }
        },
        "1147ef54dbf943dca889c855a8ff89ed": {
          "model_module": "@jupyter-widgets/controls",
          "model_name": "DescriptionStyleModel",
          "model_module_version": "1.5.0",
          "state": {
            "_model_module": "@jupyter-widgets/controls",
            "_model_module_version": "1.5.0",
            "_model_name": "DescriptionStyleModel",
            "_view_count": null,
            "_view_module": "@jupyter-widgets/base",
            "_view_module_version": "1.2.0",
            "_view_name": "StyleView",
            "description_width": ""
          }
        },
        "3c5eb99a3f17405685b46b64d6b12f90": {
          "model_module": "@jupyter-widgets/base",
          "model_name": "LayoutModel",
          "model_module_version": "1.2.0",
          "state": {
            "_model_module": "@jupyter-widgets/base",
            "_model_module_version": "1.2.0",
            "_model_name": "LayoutModel",
            "_view_count": null,
            "_view_module": "@jupyter-widgets/base",
            "_view_module_version": "1.2.0",
            "_view_name": "LayoutView",
            "align_content": null,
            "align_items": null,
            "align_self": null,
            "border": null,
            "bottom": null,
            "display": null,
            "flex": null,
            "flex_flow": null,
            "grid_area": null,
            "grid_auto_columns": null,
            "grid_auto_flow": null,
            "grid_auto_rows": null,
            "grid_column": null,
            "grid_gap": null,
            "grid_row": null,
            "grid_template_areas": null,
            "grid_template_columns": null,
            "grid_template_rows": null,
            "height": null,
            "justify_content": null,
            "justify_items": null,
            "left": null,
            "margin": null,
            "max_height": null,
            "max_width": null,
            "min_height": null,
            "min_width": null,
            "object_fit": null,
            "object_position": null,
            "order": null,
            "overflow": null,
            "overflow_x": null,
            "overflow_y": null,
            "padding": null,
            "right": null,
            "top": null,
            "visibility": null,
            "width": null
          }
        },
        "37dc26e262414d54a1ffa3b11af6e974": {
          "model_module": "@jupyter-widgets/controls",
          "model_name": "ProgressStyleModel",
          "model_module_version": "1.5.0",
          "state": {
            "_model_module": "@jupyter-widgets/controls",
            "_model_module_version": "1.5.0",
            "_model_name": "ProgressStyleModel",
            "_view_count": null,
            "_view_module": "@jupyter-widgets/base",
            "_view_module_version": "1.2.0",
            "_view_name": "StyleView",
            "bar_color": null,
            "description_width": ""
          }
        },
        "b4e833a1c5174c0e9c198fc5fb3f54f3": {
          "model_module": "@jupyter-widgets/base",
          "model_name": "LayoutModel",
          "model_module_version": "1.2.0",
          "state": {
            "_model_module": "@jupyter-widgets/base",
            "_model_module_version": "1.2.0",
            "_model_name": "LayoutModel",
            "_view_count": null,
            "_view_module": "@jupyter-widgets/base",
            "_view_module_version": "1.2.0",
            "_view_name": "LayoutView",
            "align_content": null,
            "align_items": null,
            "align_self": null,
            "border": null,
            "bottom": null,
            "display": null,
            "flex": null,
            "flex_flow": null,
            "grid_area": null,
            "grid_auto_columns": null,
            "grid_auto_flow": null,
            "grid_auto_rows": null,
            "grid_column": null,
            "grid_gap": null,
            "grid_row": null,
            "grid_template_areas": null,
            "grid_template_columns": null,
            "grid_template_rows": null,
            "height": null,
            "justify_content": null,
            "justify_items": null,
            "left": null,
            "margin": null,
            "max_height": null,
            "max_width": null,
            "min_height": null,
            "min_width": null,
            "object_fit": null,
            "object_position": null,
            "order": null,
            "overflow": null,
            "overflow_x": null,
            "overflow_y": null,
            "padding": null,
            "right": null,
            "top": null,
            "visibility": null,
            "width": null
          }
        },
        "73e0d23fd3fa4d079c82fc9c00879977": {
          "model_module": "@jupyter-widgets/controls",
          "model_name": "DescriptionStyleModel",
          "model_module_version": "1.5.0",
          "state": {
            "_model_module": "@jupyter-widgets/controls",
            "_model_module_version": "1.5.0",
            "_model_name": "DescriptionStyleModel",
            "_view_count": null,
            "_view_module": "@jupyter-widgets/base",
            "_view_module_version": "1.2.0",
            "_view_name": "StyleView",
            "description_width": ""
          }
        }
      }
    }
  },
  "cells": [
    {
      "cell_type": "markdown",
      "metadata": {
        "id": "view-in-github",
        "colab_type": "text"
      },
      "source": [
        "<a href=\"https://colab.research.google.com/github/businsweetie/deep_learning/blob/main/Task_5_2.ipynb\" target=\"_parent\"><img src=\"https://colab.research.google.com/assets/colab-badge.svg\" alt=\"Open In Colab\"/></a>"
      ]
    },
    {
      "cell_type": "markdown",
      "metadata": {
        "id": "T7JyvfUfa0CZ"
      },
      "source": [
        "# Импорт библиотек и функций"
      ]
    },
    {
      "cell_type": "code",
      "execution_count": null,
      "metadata": {
        "id": "4rbzFLJsaG9P"
      },
      "outputs": [],
      "source": [
        "import re\n",
        "import numpy as np\n",
        "import pandas as pd\n",
        "import seaborn as sns\n",
        "import matplotlib.pyplot as plt\n",
        "\n",
        "from sklearn.preprocessing import LabelEncoder\n",
        "from sklearn.model_selection import train_test_split\n",
        "\n",
        "import tensorflow as tf\n",
        "from keras import layers\n",
        "from tensorflow import keras\n",
        "from keras.optimizers import Adam\n",
        "from transformers import BertTokenizer, TFBertModel\n",
        "from tensorflow.keras.losses import CategoricalCrossentropy\n",
        "\n",
        "from sklearn.metrics import confusion_matrix, balanced_accuracy_score, roc_auc_score, precision_recall_fscore_support, roc_curve, auc, classification_report"
      ]
    },
    {
      "cell_type": "code",
      "execution_count": null,
      "metadata": {
        "id": "ZNdQlqqreAkL"
      },
      "outputs": [],
      "source": [
        "def plot_training_curves(history):\n",
        "  loss_values = history.history['loss'] # ошибка на тренировочном наборе\n",
        "  val_loss_values = history.history['val_loss'] # ошибка на валидационном наборе\n",
        "  acc_values = history.history['accuracy']  # точность на тренировочном наборе\n",
        "  val_acc_values = history.history['val_accuracy'] # точность на валидационном наборе\n",
        "\n",
        "  epochs_x = range(1, len(loss_values) + 1) # количество эпох обучения\n",
        "\n",
        "  fig, (ax1, ax2) = plt.subplots(1, 2, figsize=(15, 5))\n",
        "\n",
        "  # график значения функции потерь на каждой эпохе\n",
        "  ax1.plot(epochs_x, loss_values, 'b-o', label='Ошибка обучения')\n",
        "  ax1.plot(epochs_x, val_loss_values, 'r-o', label='Ошибка валидации')\n",
        "  ax1.set_title('Ошибка при обучении и валидации', fontsize=14, fontweight=\"bold\")\n",
        "  ax1.set_xlabel('Эпохи', fontsize=12)\n",
        "  ax1.set_ylabel('Значение ошибки', fontsize=12)\n",
        "  ax1.grid()\n",
        "  ax1.legend()\n",
        "\n",
        "  # график значения точности на каждой эпохе\n",
        "  ax2.plot(epochs_x, acc_values, 'b-o', label='Точность обучения')\n",
        "  ax2.plot(epochs_x, val_acc_values, 'r-o', label='Точность валидации')\n",
        "  ax2.set_title('Точность при обучении и валидации', fontsize=14, fontweight=\"bold\")\n",
        "  ax2.set_xlabel('Эпохи', fontsize=12)\n",
        "  ax2.set_ylabel('Значение точности', fontsize=12)\n",
        "  ax2.grid()\n",
        "  ax2.legend()\n",
        "\n",
        "  return\n",
        "\n",
        "def plot_confusion_matrix(y_true, y_pred, classes='auto', figsize=(10, 10), text_size=12):\n",
        "  # подсчет матрицы ощибок\n",
        "  cm = confusion_matrix(y_true, y_pred)\n",
        "\n",
        "  # размер изображения\n",
        "  plt.figure(figsize=figsize)\n",
        "\n",
        "  # визуалиазиция матрицы ощибок\n",
        "  disp = sns.heatmap(\n",
        "      cm, annot=True, cmap='PuBu', cbar=False,\n",
        "      annot_kws={\"size\": text_size}, fmt='g',\n",
        "      linewidths=.5, linecolor='black', clip_on=False,\n",
        "      xticklabels=classes, yticklabels=classes)\n",
        "\n",
        "  disp.set_title('Матрица ощибок', fontsize=14, fontweight=\"bold\")\n",
        "  disp.set_xlabel('Предсказанные значения', fontsize=12)\n",
        "  disp.set_ylabel('Истинные значения', fontsize=12)\n",
        "  plt.yticks(rotation=0)\n",
        "\n",
        "  plt.show()\n",
        "\n",
        "  return\n",
        "\n",
        "def generate_preformance_scores(y_true, y_pred, y_probabilities):\n",
        "\n",
        "  model_accuracy = balanced_accuracy_score(y_true, y_pred)\n",
        "  model_precision, model_recall, model_f1, _ = precision_recall_fscore_support(y_true,\n",
        "                                                                                y_pred,\n",
        "                                                                                average=\"weighted\", zero_division=0)\n",
        "  model_roc_auc = roc_auc_score(y_true, y_probabilities, multi_class=\"ovr\")\n",
        "\n",
        "  print(f'Accuracy Score:\\t\\t{model_accuracy:.4f}')\n",
        "  print(f'Precision_score:\\t{model_precision:.4f}')\n",
        "  print(f'Recall_score:\\t\\t{model_recall:.4f}')\n",
        "  print(f'F1_score:\\t\\t{model_f1:.4f}')\n",
        "  print(f'AUC Score:\\t\\t{model_roc_auc:.4f}')\n",
        "\n",
        "  return\n",
        "\n",
        "def plot_roc_curve(y_test, y_prob, figsize=(5,5)):\n",
        "\n",
        "  fpr, tpr, _ = roc_curve(y_test, y_prob)\n",
        "  roc_auc = auc(fpr, tpr)\n",
        "\n",
        "  fig, ax = plt.subplots(figsize=figsize)\n",
        "  ax.plot([0, 1], [0, 1], 'k--')\n",
        "  ax.set_xlim([-0.01, 1.0])\n",
        "  ax.set_ylim([0.0, 1.01])\n",
        "  ax.set_xlabel('False Positive Rate', fontsize=12)\n",
        "  ax.set_ylabel('True Positive Rate', fontsize=12)\n",
        "  ax.set_title(\"График ROC-кривой\", fontsize=14, fontweight=\"bold\")\n",
        "  ax.plot(fpr, tpr, label='AUC = %0.3f' % (roc_auc))\n",
        "  ax.legend(loc=\"best\")\n",
        "  ax.grid(alpha=.4)\n",
        "  plt.show()"
      ]
    },
    {
      "cell_type": "markdown",
      "metadata": {
        "id": "CQBuDsVTa3Hs"
      },
      "source": [
        "# Чтение данных"
      ]
    },
    {
      "cell_type": "code",
      "execution_count": null,
      "metadata": {
        "colab": {
          "base_uri": "https://localhost:8080/",
          "height": 206
        },
        "id": "xKli8NwnaXNI",
        "outputId": "cfd5486c-77cf-46c7-ea9f-7f7f399d9a44"
      },
      "outputs": [
        {
          "output_type": "execute_result",
          "data": {
            "text/plain": [
              "                                                text sentiment\n",
              "0  My daughter liked it but I was aghast, that a ...       neg\n",
              "1  I... No words. No words can describe this. I w...       neg\n",
              "2  this film is basically a poor take on the old ...       neg\n",
              "3  This is a terrible movie, and I'm not even sur...       neg\n",
              "4  First of all this movie is a piece of reality ...       pos"
            ],
            "text/html": [
              "\n",
              "  <div id=\"df-f2f02b06-3c94-4b87-b03c-1782fe5e2ab3\" class=\"colab-df-container\">\n",
              "    <div>\n",
              "<style scoped>\n",
              "    .dataframe tbody tr th:only-of-type {\n",
              "        vertical-align: middle;\n",
              "    }\n",
              "\n",
              "    .dataframe tbody tr th {\n",
              "        vertical-align: top;\n",
              "    }\n",
              "\n",
              "    .dataframe thead th {\n",
              "        text-align: right;\n",
              "    }\n",
              "</style>\n",
              "<table border=\"1\" class=\"dataframe\">\n",
              "  <thead>\n",
              "    <tr style=\"text-align: right;\">\n",
              "      <th></th>\n",
              "      <th>text</th>\n",
              "      <th>sentiment</th>\n",
              "    </tr>\n",
              "  </thead>\n",
              "  <tbody>\n",
              "    <tr>\n",
              "      <th>0</th>\n",
              "      <td>My daughter liked it but I was aghast, that a ...</td>\n",
              "      <td>neg</td>\n",
              "    </tr>\n",
              "    <tr>\n",
              "      <th>1</th>\n",
              "      <td>I... No words. No words can describe this. I w...</td>\n",
              "      <td>neg</td>\n",
              "    </tr>\n",
              "    <tr>\n",
              "      <th>2</th>\n",
              "      <td>this film is basically a poor take on the old ...</td>\n",
              "      <td>neg</td>\n",
              "    </tr>\n",
              "    <tr>\n",
              "      <th>3</th>\n",
              "      <td>This is a terrible movie, and I'm not even sur...</td>\n",
              "      <td>neg</td>\n",
              "    </tr>\n",
              "    <tr>\n",
              "      <th>4</th>\n",
              "      <td>First of all this movie is a piece of reality ...</td>\n",
              "      <td>pos</td>\n",
              "    </tr>\n",
              "  </tbody>\n",
              "</table>\n",
              "</div>\n",
              "    <div class=\"colab-df-buttons\">\n",
              "\n",
              "  <div class=\"colab-df-container\">\n",
              "    <button class=\"colab-df-convert\" onclick=\"convertToInteractive('df-f2f02b06-3c94-4b87-b03c-1782fe5e2ab3')\"\n",
              "            title=\"Convert this dataframe to an interactive table.\"\n",
              "            style=\"display:none;\">\n",
              "\n",
              "  <svg xmlns=\"http://www.w3.org/2000/svg\" height=\"24px\" viewBox=\"0 -960 960 960\">\n",
              "    <path d=\"M120-120v-720h720v720H120Zm60-500h600v-160H180v160Zm220 220h160v-160H400v160Zm0 220h160v-160H400v160ZM180-400h160v-160H180v160Zm440 0h160v-160H620v160ZM180-180h160v-160H180v160Zm440 0h160v-160H620v160Z\"/>\n",
              "  </svg>\n",
              "    </button>\n",
              "\n",
              "  <style>\n",
              "    .colab-df-container {\n",
              "      display:flex;\n",
              "      gap: 12px;\n",
              "    }\n",
              "\n",
              "    .colab-df-convert {\n",
              "      background-color: #E8F0FE;\n",
              "      border: none;\n",
              "      border-radius: 50%;\n",
              "      cursor: pointer;\n",
              "      display: none;\n",
              "      fill: #1967D2;\n",
              "      height: 32px;\n",
              "      padding: 0 0 0 0;\n",
              "      width: 32px;\n",
              "    }\n",
              "\n",
              "    .colab-df-convert:hover {\n",
              "      background-color: #E2EBFA;\n",
              "      box-shadow: 0px 1px 2px rgba(60, 64, 67, 0.3), 0px 1px 3px 1px rgba(60, 64, 67, 0.15);\n",
              "      fill: #174EA6;\n",
              "    }\n",
              "\n",
              "    .colab-df-buttons div {\n",
              "      margin-bottom: 4px;\n",
              "    }\n",
              "\n",
              "    [theme=dark] .colab-df-convert {\n",
              "      background-color: #3B4455;\n",
              "      fill: #D2E3FC;\n",
              "    }\n",
              "\n",
              "    [theme=dark] .colab-df-convert:hover {\n",
              "      background-color: #434B5C;\n",
              "      box-shadow: 0px 1px 3px 1px rgba(0, 0, 0, 0.15);\n",
              "      filter: drop-shadow(0px 1px 2px rgba(0, 0, 0, 0.3));\n",
              "      fill: #FFFFFF;\n",
              "    }\n",
              "  </style>\n",
              "\n",
              "    <script>\n",
              "      const buttonEl =\n",
              "        document.querySelector('#df-f2f02b06-3c94-4b87-b03c-1782fe5e2ab3 button.colab-df-convert');\n",
              "      buttonEl.style.display =\n",
              "        google.colab.kernel.accessAllowed ? 'block' : 'none';\n",
              "\n",
              "      async function convertToInteractive(key) {\n",
              "        const element = document.querySelector('#df-f2f02b06-3c94-4b87-b03c-1782fe5e2ab3');\n",
              "        const dataTable =\n",
              "          await google.colab.kernel.invokeFunction('convertToInteractive',\n",
              "                                                    [key], {});\n",
              "        if (!dataTable) return;\n",
              "\n",
              "        const docLinkHtml = 'Like what you see? Visit the ' +\n",
              "          '<a target=\"_blank\" href=https://colab.research.google.com/notebooks/data_table.ipynb>data table notebook</a>'\n",
              "          + ' to learn more about interactive tables.';\n",
              "        element.innerHTML = '';\n",
              "        dataTable['output_type'] = 'display_data';\n",
              "        await google.colab.output.renderOutput(dataTable, element);\n",
              "        const docLink = document.createElement('div');\n",
              "        docLink.innerHTML = docLinkHtml;\n",
              "        element.appendChild(docLink);\n",
              "      }\n",
              "    </script>\n",
              "  </div>\n",
              "\n",
              "\n",
              "<div id=\"df-bf1fed5d-51c9-4e72-8699-35ccd3b6a32c\">\n",
              "  <button class=\"colab-df-quickchart\" onclick=\"quickchart('df-bf1fed5d-51c9-4e72-8699-35ccd3b6a32c')\"\n",
              "            title=\"Suggest charts\"\n",
              "            style=\"display:none;\">\n",
              "\n",
              "<svg xmlns=\"http://www.w3.org/2000/svg\" height=\"24px\"viewBox=\"0 0 24 24\"\n",
              "     width=\"24px\">\n",
              "    <g>\n",
              "        <path d=\"M19 3H5c-1.1 0-2 .9-2 2v14c0 1.1.9 2 2 2h14c1.1 0 2-.9 2-2V5c0-1.1-.9-2-2-2zM9 17H7v-7h2v7zm4 0h-2V7h2v10zm4 0h-2v-4h2v4z\"/>\n",
              "    </g>\n",
              "</svg>\n",
              "  </button>\n",
              "\n",
              "<style>\n",
              "  .colab-df-quickchart {\n",
              "      --bg-color: #E8F0FE;\n",
              "      --fill-color: #1967D2;\n",
              "      --hover-bg-color: #E2EBFA;\n",
              "      --hover-fill-color: #174EA6;\n",
              "      --disabled-fill-color: #AAA;\n",
              "      --disabled-bg-color: #DDD;\n",
              "  }\n",
              "\n",
              "  [theme=dark] .colab-df-quickchart {\n",
              "      --bg-color: #3B4455;\n",
              "      --fill-color: #D2E3FC;\n",
              "      --hover-bg-color: #434B5C;\n",
              "      --hover-fill-color: #FFFFFF;\n",
              "      --disabled-bg-color: #3B4455;\n",
              "      --disabled-fill-color: #666;\n",
              "  }\n",
              "\n",
              "  .colab-df-quickchart {\n",
              "    background-color: var(--bg-color);\n",
              "    border: none;\n",
              "    border-radius: 50%;\n",
              "    cursor: pointer;\n",
              "    display: none;\n",
              "    fill: var(--fill-color);\n",
              "    height: 32px;\n",
              "    padding: 0;\n",
              "    width: 32px;\n",
              "  }\n",
              "\n",
              "  .colab-df-quickchart:hover {\n",
              "    background-color: var(--hover-bg-color);\n",
              "    box-shadow: 0 1px 2px rgba(60, 64, 67, 0.3), 0 1px 3px 1px rgba(60, 64, 67, 0.15);\n",
              "    fill: var(--button-hover-fill-color);\n",
              "  }\n",
              "\n",
              "  .colab-df-quickchart-complete:disabled,\n",
              "  .colab-df-quickchart-complete:disabled:hover {\n",
              "    background-color: var(--disabled-bg-color);\n",
              "    fill: var(--disabled-fill-color);\n",
              "    box-shadow: none;\n",
              "  }\n",
              "\n",
              "  .colab-df-spinner {\n",
              "    border: 2px solid var(--fill-color);\n",
              "    border-color: transparent;\n",
              "    border-bottom-color: var(--fill-color);\n",
              "    animation:\n",
              "      spin 1s steps(1) infinite;\n",
              "  }\n",
              "\n",
              "  @keyframes spin {\n",
              "    0% {\n",
              "      border-color: transparent;\n",
              "      border-bottom-color: var(--fill-color);\n",
              "      border-left-color: var(--fill-color);\n",
              "    }\n",
              "    20% {\n",
              "      border-color: transparent;\n",
              "      border-left-color: var(--fill-color);\n",
              "      border-top-color: var(--fill-color);\n",
              "    }\n",
              "    30% {\n",
              "      border-color: transparent;\n",
              "      border-left-color: var(--fill-color);\n",
              "      border-top-color: var(--fill-color);\n",
              "      border-right-color: var(--fill-color);\n",
              "    }\n",
              "    40% {\n",
              "      border-color: transparent;\n",
              "      border-right-color: var(--fill-color);\n",
              "      border-top-color: var(--fill-color);\n",
              "    }\n",
              "    60% {\n",
              "      border-color: transparent;\n",
              "      border-right-color: var(--fill-color);\n",
              "    }\n",
              "    80% {\n",
              "      border-color: transparent;\n",
              "      border-right-color: var(--fill-color);\n",
              "      border-bottom-color: var(--fill-color);\n",
              "    }\n",
              "    90% {\n",
              "      border-color: transparent;\n",
              "      border-bottom-color: var(--fill-color);\n",
              "    }\n",
              "  }\n",
              "</style>\n",
              "\n",
              "  <script>\n",
              "    async function quickchart(key) {\n",
              "      const quickchartButtonEl =\n",
              "        document.querySelector('#' + key + ' button');\n",
              "      quickchartButtonEl.disabled = true;  // To prevent multiple clicks.\n",
              "      quickchartButtonEl.classList.add('colab-df-spinner');\n",
              "      try {\n",
              "        const charts = await google.colab.kernel.invokeFunction(\n",
              "            'suggestCharts', [key], {});\n",
              "      } catch (error) {\n",
              "        console.error('Error during call to suggestCharts:', error);\n",
              "      }\n",
              "      quickchartButtonEl.classList.remove('colab-df-spinner');\n",
              "      quickchartButtonEl.classList.add('colab-df-quickchart-complete');\n",
              "    }\n",
              "    (() => {\n",
              "      let quickchartButtonEl =\n",
              "        document.querySelector('#df-bf1fed5d-51c9-4e72-8699-35ccd3b6a32c button');\n",
              "      quickchartButtonEl.style.display =\n",
              "        google.colab.kernel.accessAllowed ? 'block' : 'none';\n",
              "    })();\n",
              "  </script>\n",
              "</div>\n",
              "    </div>\n",
              "  </div>\n"
            ]
          },
          "metadata": {},
          "execution_count": 4
        }
      ],
      "source": [
        "df = pd.read_excel(\"https://docs.google.com/spreadsheets/d/e/2PACX-1vQFF3mjUeHP3CWhZqdeVInESL3eFN72K1urhfuBWoiG9bXwZqRt-7Cjaf2Ls5fltDXd_D7nk75SLcPC/pub?output=xlsx\")\n",
        "df.head()"
      ]
    },
    {
      "cell_type": "code",
      "source": [
        "df.shape"
      ],
      "metadata": {
        "colab": {
          "base_uri": "https://localhost:8080/"
        },
        "id": "AX2dEfeANtOJ",
        "outputId": "228e7831-670b-453f-c6d2-b07e9c2c0cb4"
      },
      "execution_count": null,
      "outputs": [
        {
          "output_type": "execute_result",
          "data": {
            "text/plain": [
              "(25000, 2)"
            ]
          },
          "metadata": {},
          "execution_count": 5
        }
      ]
    },
    {
      "cell_type": "code",
      "source": [
        "df = df.iloc[0:5000]"
      ],
      "metadata": {
        "id": "1-RJazrHNyFq"
      },
      "execution_count": null,
      "outputs": []
    },
    {
      "cell_type": "code",
      "execution_count": null,
      "metadata": {
        "colab": {
          "base_uri": "https://localhost:8080/",
          "height": 415
        },
        "id": "jq2iqV02ayh2",
        "outputId": "3d631cb4-199d-4c99-d823-ac86db00142b"
      },
      "outputs": [
        {
          "output_type": "display_data",
          "data": {
            "text/plain": [
              "<Figure size 500x400 with 1 Axes>"
            ],
            "image/png": "[encoded data removed]"
          },
          "metadata": {}
        }
      ],
      "source": [
        "plt.figure(figsize=(5, 4))\n",
        "sns.countplot(data=df, x='sentiment')\n",
        "\n",
        "plt.xlabel('Отзыв', fontsize=12)\n",
        "plt.ylabel('Количество отзывов', fontsize=12)\n",
        "plt.title('Количество отзывов каждого класса', fontsize=14, fontweight=\"bold\");"
      ]
    },
    {
      "cell_type": "markdown",
      "metadata": {
        "id": "NMcd6v2QeapJ"
      },
      "source": [
        "# Предобработка данных\n",
        "\n",
        "\n"
      ]
    },
    {
      "cell_type": "markdown",
      "metadata": {
        "id": "yfhdWLgPfKfr"
      },
      "source": [
        "Удалим из текста перенос строки, пунктуацию, и приведем все буквы к нижнему регистру"
      ]
    },
    {
      "cell_type": "code",
      "execution_count": null,
      "metadata": {
        "id": "cwu9w1fIJDtH"
      },
      "outputs": [],
      "source": [
        "def unify_fragment(elem):\n",
        "  elem = re.sub(r'[^\\w\\s]', ' ', elem)\n",
        "  elem = re.sub(r'\\n', ' ', elem)\n",
        "  elem = elem.lower()\n",
        "  elem = ' '.join(elem.split())\n",
        "\n",
        "  return elem"
      ]
    },
    {
      "cell_type": "code",
      "execution_count": null,
      "metadata": {
        "id": "DjOvV40uJDyg"
      },
      "outputs": [],
      "source": [
        "df[\"text\"] = df[\"text\"].apply(unify_fragment)"
      ]
    },
    {
      "cell_type": "code",
      "execution_count": null,
      "metadata": {
        "id": "2O7keacTf9_F"
      },
      "outputs": [],
      "source": [
        "encoder = LabelEncoder()\n",
        "df[\"label\"] = encoder.fit_transform(df[\"sentiment\"])"
      ]
    },
    {
      "cell_type": "code",
      "source": [
        "df"
      ],
      "metadata": {
        "colab": {
          "base_uri": "https://localhost:8080/"
        },
        "id": "aR_YETF5MuVC",
        "outputId": "f2490a29-6ba1-4a07-dadf-2c9cec5067d5"
      },
      "execution_count": null,
      "outputs": [
        {
          "output_type": "execute_result",
          "data": {
            "text/plain": [
              "                                                   text sentiment  label\n",
              "0     my daughter liked it but i was aghast that a c...       neg      0\n",
              "1     i no words no words can describe this i will t...       neg      0\n",
              "2     this film is basically a poor take on the old ...       neg      0\n",
              "3     this is a terrible movie and i m not even sure...       neg      0\n",
              "4     first of all this movie is a piece of reality ...       pos      1\n",
              "...                                                 ...       ...    ...\n",
              "4995  this documentary sheds absolutely no light on ...       neg      0\n",
              "4996  although the plot of this film is a bit far fe...       pos      1\n",
              "4997  the detective story is not typical for the mat...       pos      1\n",
              "4998  i am a huge fan of harald zwart and i just kne...       pos      1\n",
              "4999  i usually really like lawrence and being in au...       neg      0\n",
              "\n",
              "[5000 rows x 3 columns]"
            ],
            "text/html": [
              "\n",
              "  <div id=\"df-34fd37d9-2e0a-45c5-9b8f-875ca82b3b50\" class=\"colab-df-container\">\n",
              "    <div>\n",
              "<style scoped>\n",
              "    .dataframe tbody tr th:only-of-type {\n",
              "        vertical-align: middle;\n",
              "    }\n",
              "\n",
              "    .dataframe tbody tr th {\n",
              "        vertical-align: top;\n",
              "    }\n",
              "\n",
              "    .dataframe thead th {\n",
              "        text-align: right;\n",
              "    }\n",
              "</style>\n",
              "<table border=\"1\" class=\"dataframe\">\n",
              "  <thead>\n",
              "    <tr style=\"text-align: right;\">\n",
              "      <th></th>\n",
              "      <th>text</th>\n",
              "      <th>sentiment</th>\n",
              "      <th>label</th>\n",
              "    </tr>\n",
              "  </thead>\n",
              "  <tbody>\n",
              "    <tr>\n",
              "      <th>0</th>\n",
              "      <td>my daughter liked it but i was aghast that a c...</td>\n",
              "      <td>neg</td>\n",
              "      <td>0</td>\n",
              "    </tr>\n",
              "    <tr>\n",
              "      <th>1</th>\n",
              "      <td>i no words no words can describe this i will t...</td>\n",
              "      <td>neg</td>\n",
              "      <td>0</td>\n",
              "    </tr>\n",
              "    <tr>\n",
              "      <th>2</th>\n",
              "      <td>this film is basically a poor take on the old ...</td>\n",
              "      <td>neg</td>\n",
              "      <td>0</td>\n",
              "    </tr>\n",
              "    <tr>\n",
              "      <th>3</th>\n",
              "      <td>this is a terrible movie and i m not even sure...</td>\n",
              "      <td>neg</td>\n",
              "      <td>0</td>\n",
              "    </tr>\n",
              "    <tr>\n",
              "      <th>4</th>\n",
              "      <td>first of all this movie is a piece of reality ...</td>\n",
              "      <td>pos</td>\n",
              "      <td>1</td>\n",
              "    </tr>\n",
              "    <tr>\n",
              "      <th>...</th>\n",
              "      <td>...</td>\n",
              "      <td>...</td>\n",
              "      <td>...</td>\n",
              "    </tr>\n",
              "    <tr>\n",
              "      <th>4995</th>\n",
              "      <td>this documentary sheds absolutely no light on ...</td>\n",
              "      <td>neg</td>\n",
              "      <td>0</td>\n",
              "    </tr>\n",
              "    <tr>\n",
              "      <th>4996</th>\n",
              "      <td>although the plot of this film is a bit far fe...</td>\n",
              "      <td>pos</td>\n",
              "      <td>1</td>\n",
              "    </tr>\n",
              "    <tr>\n",
              "      <th>4997</th>\n",
              "      <td>the detective story is not typical for the mat...</td>\n",
              "      <td>pos</td>\n",
              "      <td>1</td>\n",
              "    </tr>\n",
              "    <tr>\n",
              "      <th>4998</th>\n",
              "      <td>i am a huge fan of harald zwart and i just kne...</td>\n",
              "      <td>pos</td>\n",
              "      <td>1</td>\n",
              "    </tr>\n",
              "    <tr>\n",
              "      <th>4999</th>\n",
              "      <td>i usually really like lawrence and being in au...</td>\n",
              "      <td>neg</td>\n",
              "      <td>0</td>\n",
              "    </tr>\n",
              "  </tbody>\n",
              "</table>\n",
              "<p>5000 rows × 3 columns</p>\n",
              "</div>\n",
              "    <div class=\"colab-df-buttons\">\n",
              "\n",
              "  <div class=\"colab-df-container\">\n",
              "    <button class=\"colab-df-convert\" onclick=\"convertToInteractive('df-34fd37d9-2e0a-45c5-9b8f-875ca82b3b50')\"\n",
              "            title=\"Convert this dataframe to an interactive table.\"\n",
              "            style=\"display:none;\">\n",
              "\n",
              "  <svg xmlns=\"http://www.w3.org/2000/svg\" height=\"24px\" viewBox=\"0 -960 960 960\">\n",
              "    <path d=\"M120-120v-720h720v720H120Zm60-500h600v-160H180v160Zm220 220h160v-160H400v160Zm0 220h160v-160H400v160ZM180-400h160v-160H180v160Zm440 0h160v-160H620v160ZM180-180h160v-160H180v160Zm440 0h160v-160H620v160Z\"/>\n",
              "  </svg>\n",
              "    </button>\n",
              "\n",
              "  <style>\n",
              "    .colab-df-container {\n",
              "      display:flex;\n",
              "      gap: 12px;\n",
              "    }\n",
              "\n",
              "    .colab-df-convert {\n",
              "      background-color: #E8F0FE;\n",
              "      border: none;\n",
              "      border-radius: 50%;\n",
              "      cursor: pointer;\n",
              "      display: none;\n",
              "      fill: #1967D2;\n",
              "      height: 32px;\n",
              "      padding: 0 0 0 0;\n",
              "      width: 32px;\n",
              "    }\n",
              "\n",
              "    .colab-df-convert:hover {\n",
              "      background-color: #E2EBFA;\n",
              "      box-shadow: 0px 1px 2px rgba(60, 64, 67, 0.3), 0px 1px 3px 1px rgba(60, 64, 67, 0.15);\n",
              "      fill: #174EA6;\n",
              "    }\n",
              "\n",
              "    .colab-df-buttons div {\n",
              "      margin-bottom: 4px;\n",
              "    }\n",
              "\n",
              "    [theme=dark] .colab-df-convert {\n",
              "      background-color: #3B4455;\n",
              "      fill: #D2E3FC;\n",
              "    }\n",
              "\n",
              "    [theme=dark] .colab-df-convert:hover {\n",
              "      background-color: #434B5C;\n",
              "      box-shadow: 0px 1px 3px 1px rgba(0, 0, 0, 0.15);\n",
              "      filter: drop-shadow(0px 1px 2px rgba(0, 0, 0, 0.3));\n",
              "      fill: #FFFFFF;\n",
              "    }\n",
              "  </style>\n",
              "\n",
              "    <script>\n",
              "      const buttonEl =\n",
              "        document.querySelector('#df-34fd37d9-2e0a-45c5-9b8f-875ca82b3b50 button.colab-df-convert');\n",
              "      buttonEl.style.display =\n",
              "        google.colab.kernel.accessAllowed ? 'block' : 'none';\n",
              "\n",
              "      async function convertToInteractive(key) {\n",
              "        const element = document.querySelector('#df-34fd37d9-2e0a-45c5-9b8f-875ca82b3b50');\n",
              "        const dataTable =\n",
              "          await google.colab.kernel.invokeFunction('convertToInteractive',\n",
              "                                                    [key], {});\n",
              "        if (!dataTable) return;\n",
              "\n",
              "        const docLinkHtml = 'Like what you see? Visit the ' +\n",
              "          '<a target=\"_blank\" href=https://colab.research.google.com/notebooks/data_table.ipynb>data table notebook</a>'\n",
              "          + ' to learn more about interactive tables.';\n",
              "        element.innerHTML = '';\n",
              "        dataTable['output_type'] = 'display_data';\n",
              "        await google.colab.output.renderOutput(dataTable, element);\n",
              "        const docLink = document.createElement('div');\n",
              "        docLink.innerHTML = docLinkHtml;\n",
              "        element.appendChild(docLink);\n",
              "      }\n",
              "    </script>\n",
              "  </div>\n",
              "\n",
              "\n",
              "<div id=\"df-c905dbff-4cf5-4e3e-8a5b-a77607223f51\">\n",
              "  <button class=\"colab-df-quickchart\" onclick=\"quickchart('df-c905dbff-4cf5-4e3e-8a5b-a77607223f51')\"\n",
              "            title=\"Suggest charts\"\n",
              "            style=\"display:none;\">\n",
              "\n",
              "<svg xmlns=\"http://www.w3.org/2000/svg\" height=\"24px\"viewBox=\"0 0 24 24\"\n",
              "     width=\"24px\">\n",
              "    <g>\n",
              "        <path d=\"M19 3H5c-1.1 0-2 .9-2 2v14c0 1.1.9 2 2 2h14c1.1 0 2-.9 2-2V5c0-1.1-.9-2-2-2zM9 17H7v-7h2v7zm4 0h-2V7h2v10zm4 0h-2v-4h2v4z\"/>\n",
              "    </g>\n",
              "</svg>\n",
              "  </button>\n",
              "\n",
              "<style>\n",
              "  .colab-df-quickchart {\n",
              "      --bg-color: #E8F0FE;\n",
              "      --fill-color: #1967D2;\n",
              "      --hover-bg-color: #E2EBFA;\n",
              "      --hover-fill-color: #174EA6;\n",
              "      --disabled-fill-color: #AAA;\n",
              "      --disabled-bg-color: #DDD;\n",
              "  }\n",
              "\n",
              "  [theme=dark] .colab-df-quickchart {\n",
              "      --bg-color: #3B4455;\n",
              "      --fill-color: #D2E3FC;\n",
              "      --hover-bg-color: #434B5C;\n",
              "      --hover-fill-color: #FFFFFF;\n",
              "      --disabled-bg-color: #3B4455;\n",
              "      --disabled-fill-color: #666;\n",
              "  }\n",
              "\n",
              "  .colab-df-quickchart {\n",
              "    background-color: var(--bg-color);\n",
              "    border: none;\n",
              "    border-radius: 50%;\n",
              "    cursor: pointer;\n",
              "    display: none;\n",
              "    fill: var(--fill-color);\n",
              "    height: 32px;\n",
              "    padding: 0;\n",
              "    width: 32px;\n",
              "  }\n",
              "\n",
              "  .colab-df-quickchart:hover {\n",
              "    background-color: var(--hover-bg-color);\n",
              "    box-shadow: 0 1px 2px rgba(60, 64, 67, 0.3), 0 1px 3px 1px rgba(60, 64, 67, 0.15);\n",
              "    fill: var(--button-hover-fill-color);\n",
              "  }\n",
              "\n",
              "  .colab-df-quickchart-complete:disabled,\n",
              "  .colab-df-quickchart-complete:disabled:hover {\n",
              "    background-color: var(--disabled-bg-color);\n",
              "    fill: var(--disabled-fill-color);\n",
              "    box-shadow: none;\n",
              "  }\n",
              "\n",
              "  .colab-df-spinner {\n",
              "    border: 2px solid var(--fill-color);\n",
              "    border-color: transparent;\n",
              "    border-bottom-color: var(--fill-color);\n",
              "    animation:\n",
              "      spin 1s steps(1) infinite;\n",
              "  }\n",
              "\n",
              "  @keyframes spin {\n",
              "    0% {\n",
              "      border-color: transparent;\n",
              "      border-bottom-color: var(--fill-color);\n",
              "      border-left-color: var(--fill-color);\n",
              "    }\n",
              "    20% {\n",
              "      border-color: transparent;\n",
              "      border-left-color: var(--fill-color);\n",
              "      border-top-color: var(--fill-color);\n",
              "    }\n",
              "    30% {\n",
              "      border-color: transparent;\n",
              "      border-left-color: var(--fill-color);\n",
              "      border-top-color: var(--fill-color);\n",
              "      border-right-color: var(--fill-color);\n",
              "    }\n",
              "    40% {\n",
              "      border-color: transparent;\n",
              "      border-right-color: var(--fill-color);\n",
              "      border-top-color: var(--fill-color);\n",
              "    }\n",
              "    60% {\n",
              "      border-color: transparent;\n",
              "      border-right-color: var(--fill-color);\n",
              "    }\n",
              "    80% {\n",
              "      border-color: transparent;\n",
              "      border-right-color: var(--fill-color);\n",
              "      border-bottom-color: var(--fill-color);\n",
              "    }\n",
              "    90% {\n",
              "      border-color: transparent;\n",
              "      border-bottom-color: var(--fill-color);\n",
              "    }\n",
              "  }\n",
              "</style>\n",
              "\n",
              "  <script>\n",
              "    async function quickchart(key) {\n",
              "      const quickchartButtonEl =\n",
              "        document.querySelector('#' + key + ' button');\n",
              "      quickchartButtonEl.disabled = true;  // To prevent multiple clicks.\n",
              "      quickchartButtonEl.classList.add('colab-df-spinner');\n",
              "      try {\n",
              "        const charts = await google.colab.kernel.invokeFunction(\n",
              "            'suggestCharts', [key], {});\n",
              "      } catch (error) {\n",
              "        console.error('Error during call to suggestCharts:', error);\n",
              "      }\n",
              "      quickchartButtonEl.classList.remove('colab-df-spinner');\n",
              "      quickchartButtonEl.classList.add('colab-df-quickchart-complete');\n",
              "    }\n",
              "    (() => {\n",
              "      let quickchartButtonEl =\n",
              "        document.querySelector('#df-c905dbff-4cf5-4e3e-8a5b-a77607223f51 button');\n",
              "      quickchartButtonEl.style.display =\n",
              "        google.colab.kernel.accessAllowed ? 'block' : 'none';\n",
              "    })();\n",
              "  </script>\n",
              "</div>\n",
              "    </div>\n",
              "  </div>\n"
            ]
          },
          "metadata": {},
          "execution_count": 11
        }
      ]
    },
    {
      "cell_type": "markdown",
      "metadata": {
        "id": "4ozwYZT4hhx6"
      },
      "source": [
        "# Получим токенизатор"
      ]
    },
    {
      "cell_type": "code",
      "execution_count": null,
      "metadata": {
        "id": "hiExr2zqqHCL"
      },
      "outputs": [],
      "source": [
        "def get_max_word_count(data):\n",
        "  max = 0\n",
        "  for elem in data:\n",
        "    if (len(elem.split()) > max):\n",
        "      max = len(elem.split())\n",
        "\n",
        "  return max"
      ]
    },
    {
      "cell_type": "code",
      "execution_count": null,
      "metadata": {
        "colab": {
          "base_uri": "https://localhost:8080/"
        },
        "id": "LWeENL8oI4i2",
        "outputId": "79ed17a0-db16-470f-bb84-5cc7fd8477ee"
      },
      "outputs": [
        {
          "output_type": "execute_result",
          "data": {
            "text/plain": [
              "1117"
            ]
          },
          "metadata": {},
          "execution_count": 13
        }
      ],
      "source": [
        "max_length = get_max_word_count(df[\"text\"])\n",
        "max_length"
      ]
    },
    {
      "cell_type": "code",
      "execution_count": null,
      "metadata": {
        "id": "iQvVXCKOhadL",
        "colab": {
          "base_uri": "https://localhost:8080/",
          "referenced_widgets": [
            "73d2ef968fea4860aeeb5d8fc3a69f7f",
            "1eda4e8ac6c64fde997c3cc14bd145cf",
            "0373802fe0e642a090ff6ea6236e9be2",
            "94cd4df5fc254dd39767363d1c40ca55",
            "6d9b8983d0ab4741800b5c4fea263a61",
            "f6727d9d0d7c49dca4c24220fc15ab0f",
            "744dcaa15ebc461e8fcf298c152a8586",
            "8098cc7a10cf4e0aa6d1c96f1c12f3c2",
            "1c0fcc44b72c43879ab4a0ac0aa18910",
            "7b4603fc952c4c049a551359ead4f647",
            "4d4bf3b06ac34d4f91588a720f8d57da",
            "e3595bfe3fd74c7d8863a3735336e32c",
            "738ef0db72d64419adc6813ca8655469",
            "6c127a6be8c842abade3566ec916ffda",
            "9db16fed76ef4f1da4f2c8d53c5df67a",
            "fdf63be5afe44c5a81cfd19ca4792b53",
            "ec1730ab3f5c4e4e9c0f6644580e4be6",
            "f7451459928741f8a801322e349270a0",
            "99f108f7b1df47f88313fc04096549b9",
            "274cbf9df3e3497f89c240dbaa49aa67",
            "3a8576e1e6e847edad04f000c3c4ab4b",
            "94aabcc5b6d642edb772453111f93060",
            "0f51a644292442c488ff9d267d9dcaf5",
            "452966b9d2bd49538a14560cd56bd527",
            "2b336f7503694765919c425e5d50b024",
            "1a890546175a410ea245925b491911fb",
            "6f23c2f8ed7d40289560be6ae8174615",
            "963b73ce65fe41268aba8528e489c5ec",
            "078478db1d2b40ecac749c87837eadae",
            "adeaf4cf1dec4f07bad4648cc571aea0",
            "62db23a62ad64a4bb62f31dbd43f15af",
            "20484c060bd94a7db40aece2cb90d56c",
            "e52184759f024988829179a65b8b1506",
            "df58ccf0637f4ab6b769f168f12e0945",
            "85ce4659ac9f45f8bcb30e652edb9018",
            "ad708fc1c89743f38bb46e7222705ed5",
            "77848498bc2a4befad6427fadf20535e",
            "937cfe9814e54779aec5a5b9f7885a7a",
            "a933e52075394ee9a475300064fc6100",
            "764273f26c034588b7eca112ba1a4969",
            "5f3c3a3ebb1b45c294d98cd6259aca21",
            "c4502b816aae4b2e80fcbc47fc99084a",
            "4ceaee7dff734152b7915e2e03b18288",
            "0e4ff86f18e841daacc1039e18380619"
          ]
        },
        "outputId": "b52e8624-a6db-4442-9361-ae91e40d4e6e"
      },
      "outputs": [
        {
          "output_type": "display_data",
          "data": {
            "text/plain": [
              "tokenizer_config.json:   0%|          | 0.00/28.0 [00:00<?, ?B/s]"
            ],
            "application/vnd.jupyter.widget-view+json": {
              "version_major": 2,
              "version_minor": 0,
              "model_id": "73d2ef968fea4860aeeb5d8fc3a69f7f"
            }
          },
          "metadata": {}
        },
        {
          "output_type": "display_data",
          "data": {
            "text/plain": [
              "vocab.txt:   0%|          | 0.00/232k [00:00<?, ?B/s]"
            ],
            "application/vnd.jupyter.widget-view+json": {
              "version_major": 2,
              "version_minor": 0,
              "model_id": "e3595bfe3fd74c7d8863a3735336e32c"
            }
          },
          "metadata": {}
        },
        {
          "output_type": "display_data",
          "data": {
            "text/plain": [
              "tokenizer.json:   0%|          | 0.00/466k [00:00<?, ?B/s]"
            ],
            "application/vnd.jupyter.widget-view+json": {
              "version_major": 2,
              "version_minor": 0,
              "model_id": "0f51a644292442c488ff9d267d9dcaf5"
            }
          },
          "metadata": {}
        },
        {
          "output_type": "display_data",
          "data": {
            "text/plain": [
              "config.json:   0%|          | 0.00/570 [00:00<?, ?B/s]"
            ],
            "application/vnd.jupyter.widget-view+json": {
              "version_major": 2,
              "version_minor": 0,
              "model_id": "df58ccf0637f4ab6b769f168f12e0945"
            }
          },
          "metadata": {}
        }
      ],
      "source": [
        "tokenizer = BertTokenizer.from_pretrained('bert-base-uncased')"
      ]
    },
    {
      "cell_type": "code",
      "execution_count": null,
      "metadata": {
        "id": "3o_EADt4ho8z"
      },
      "outputs": [],
      "source": [
        "sentences = df[\"text\"]"
      ]
    },
    {
      "cell_type": "code",
      "execution_count": null,
      "metadata": {
        "colab": {
          "base_uri": "https://localhost:8080/"
        },
        "id": "uD2LBgOOhpI7",
        "outputId": "9239b8f3-3006-4a72-b14f-fe2a32c9e2f8"
      },
      "outputs": [
        {
          "output_type": "stream",
          "name": "stderr",
          "text": [
            "/usr/local/lib/python3.10/dist-packages/transformers/tokenization_utils_base.py:2614: FutureWarning: The `pad_to_max_length` argument is deprecated and will be removed in a future version, use `padding=True` or `padding='longest'` to pad to the longest sequence in the batch, or use `padding='max_length'` to pad to a max length. In this case, you can give a specific length with `max_length` (e.g. `max_length=45`) or leave max_length to None to pad to the maximal input size of the model (e.g. 512 for Bert).\n",
            "  warnings.warn(\n"
          ]
        }
      ],
      "source": [
        "input_ids = []\n",
        "attention_masks = []\n",
        "max_length = get_max_word_count(df[\"text\"])\n",
        "\n",
        "if (max_length > 512):\n",
        "  max_length = 124\n",
        "\n",
        "for sent in sentences:\n",
        "  bert_inp = tokenizer.encode_plus(sent,\n",
        "                                   add_special_tokens=True,\n",
        "                                   max_length=124,\n",
        "                                   pad_to_max_length=True,\n",
        "                                   truncation=True,\n",
        "                                   return_attention_mask=True)\n",
        "\n",
        "  input_ids.append(bert_inp['input_ids'])\n",
        "  attention_masks.append(bert_inp['attention_mask'])\n",
        "\n",
        "input_ids = np.asarray(input_ids)\n",
        "attention_masks = np.array(attention_masks)\n",
        "target = np.array(pd.get_dummies(df['label']))"
      ]
    },
    {
      "cell_type": "code",
      "execution_count": null,
      "metadata": {
        "colab": {
          "base_uri": "https://localhost:8080/",
          "referenced_widgets": [
            "e26e45b35d4b4c60bc75e36028aa826a",
            "ac43cbfab8f64c88ab27cc9bd7471ce0",
            "dbfda890eb9948f7a0d96a7c231e3d27",
            "050d5b5538644b43964a363e2a0345d1",
            "394bc6df329e432384444a3421463aac",
            "4338c8d888634dc49f4066e4145048d1",
            "1147ef54dbf943dca889c855a8ff89ed",
            "3c5eb99a3f17405685b46b64d6b12f90",
            "37dc26e262414d54a1ffa3b11af6e974",
            "b4e833a1c5174c0e9c198fc5fb3f54f3",
            "73e0d23fd3fa4d079c82fc9c00879977"
          ]
        },
        "id": "6HCBuZsKayZa",
        "outputId": "3bb1327f-966d-4674-c57b-99de7ee39aa8"
      },
      "outputs": [
        {
          "output_type": "display_data",
          "data": {
            "text/plain": [
              "model.safetensors:   0%|          | 0.00/440M [00:00<?, ?B/s]"
            ],
            "application/vnd.jupyter.widget-view+json": {
              "version_major": 2,
              "version_minor": 0,
              "model_id": "e26e45b35d4b4c60bc75e36028aa826a"
            }
          },
          "metadata": {}
        },
        {
          "output_type": "stream",
          "name": "stderr",
          "text": [
            "Some weights of the PyTorch model were not used when initializing the TF 2.0 model TFBertModel: ['cls.seq_relationship.weight', 'cls.predictions.transform.dense.weight', 'cls.seq_relationship.bias', 'cls.predictions.bias', 'cls.predictions.transform.LayerNorm.weight', 'cls.predictions.transform.LayerNorm.bias', 'cls.predictions.transform.dense.bias']\n",
            "- This IS expected if you are initializing TFBertModel from a PyTorch model trained on another task or with another architecture (e.g. initializing a TFBertForSequenceClassification model from a BertForPreTraining model).\n",
            "- This IS NOT expected if you are initializing TFBertModel from a PyTorch model that you expect to be exactly identical (e.g. initializing a TFBertForSequenceClassification model from a BertForSequenceClassification model).\n",
            "All the weights of TFBertModel were initialized from the PyTorch model.\n",
            "If your task is similar to the task the model of the checkpoint was trained on, you can already use TFBertModel for predictions without further training.\n"
          ]
        }
      ],
      "source": [
        "bert_model = TFBertModel.from_pretrained('bert-base-uncased', output_hidden_states=True)"
      ]
    },
    {
      "cell_type": "markdown",
      "metadata": {
        "id": "Zqu4hhLDc-oe"
      },
      "source": [
        "# Деление на выборки"
      ]
    },
    {
      "cell_type": "code",
      "execution_count": null,
      "metadata": {
        "id": "nr4Dr4OvK-Y3"
      },
      "outputs": [],
      "source": [
        "X_train, X_test, y_train, y_test, train_mask, test_mask = train_test_split(input_ids, target, attention_masks, test_size=0.1, random_state = 47)\n",
        "X_train, X_val, y_train, y_val, train_mask, val_mask = train_test_split(X_train, y_train, train_mask, test_size=0.1, random_state = 47)"
      ]
    },
    {
      "cell_type": "code",
      "execution_count": null,
      "metadata": {
        "id": "Pc_5FNphiMSe"
      },
      "outputs": [],
      "source": [
        "y_tested = np.argmax(y_test, axis=1)"
      ]
    },
    {
      "cell_type": "code",
      "execution_count": null,
      "metadata": {
        "colab": {
          "base_uri": "https://localhost:8080/"
        },
        "id": "aK_ylWfoSTEj",
        "outputId": "21216e0e-cc9d-47d9-aec6-58d3fda08eb6"
      },
      "outputs": [
        {
          "output_type": "stream",
          "name": "stdout",
          "text": [
            "Размер тренировочной выборки: (4050, 124)\n",
            "Размер валидационной выборки: (450, 124)\n",
            "Размер тестовой выборки: (500, 124)\n"
          ]
        }
      ],
      "source": [
        "print(f\"Размер тренировочной выборки: {X_train.shape}\")\n",
        "print(f\"Размер валидационной выборки: {X_val.shape}\")\n",
        "print(f\"Размер тестовой выборки: {X_test.shape}\")"
      ]
    },
    {
      "cell_type": "markdown",
      "metadata": {
        "id": "cpX7RBBZeInG"
      },
      "source": [
        "# Создание модели"
      ]
    },
    {
      "cell_type": "markdown",
      "metadata": {
        "id": "qiDRsncYlPbD"
      },
      "source": [
        "## Bert transfer learning"
      ]
    },
    {
      "cell_type": "code",
      "execution_count": null,
      "metadata": {
        "id": "4NaRW3tDaXJL"
      },
      "outputs": [],
      "source": [
        "def create_model(model):\n",
        "    input_ids = keras.Input(shape=(max_length,), dtype='int32')\n",
        "    attention_masks = keras.Input(shape=(max_length,), dtype='int32')\n",
        "\n",
        "    output = model(input_ids, attention_masks)\n",
        "    encoder_output = output[0]\n",
        "    pooler_output = output[1]\n",
        "    output = keras.layers.Concatenate()([encoder_output[:,0,:], pooler_output])\n",
        "\n",
        "    output = keras.layers.Dense(32, activation='relu')(output)\n",
        "    output = keras.layers.Dropout(0.25)(output)\n",
        "    output = keras.layers.Dense(8, activation='relu')(output)\n",
        "    output = keras.layers.Dense(df['sentiment'].nunique(), activation='softmax')(output)\n",
        "    model = keras.models.Model(inputs=[input_ids, attention_masks],\n",
        "                                  outputs=output)\n",
        "\n",
        "\n",
        "    for layer in model.layers[:5]:\n",
        "        layer.trainable = False\n",
        "    return model"
      ]
    },
    {
      "cell_type": "code",
      "execution_count": null,
      "metadata": {
        "colab": {
          "base_uri": "https://localhost:8080/"
        },
        "id": "cbLewgzjaXFL",
        "outputId": "fc2ee453-c509-4421-d124-49986586d47e"
      },
      "outputs": [
        {
          "output_type": "stream",
          "name": "stdout",
          "text": [
            "Model: \"model\"\n",
            "__________________________________________________________________________________________________\n",
            " Layer (type)                Output Shape                 Param #   Connected to                  \n",
            "==================================================================================================\n",
            " input_1 (InputLayer)        [(None, 124)]                0         []                            \n",
            "                                                                                                  \n",
            " input_2 (InputLayer)        [(None, 124)]                0         []                            \n",
            "                                                                                                  \n",
            " tf_bert_model (TFBertModel  TFBaseModelOutputWithPooli   1094822   ['input_1[0][0]',             \n",
            " )                           ngAndCrossAttentions(last_   40         'input_2[0][0]']             \n",
            "                             hidden_state=(None, 124, 7                                           \n",
            "                             68),                                                                 \n",
            "                              pooler_output=(None, 768)                                           \n",
            "                             , past_key_values=None, hi                                           \n",
            "                             dden_states=((None, 124, 7                                           \n",
            "                             68),                                                                 \n",
            "                              (None, 124, 768),                                                   \n",
            "                              (None, 124, 768),                                                   \n",
            "                              (None, 124, 768),                                                   \n",
            "                              (None, 124, 768),                                                   \n",
            "                              (None, 124, 768),                                                   \n",
            "                              (None, 124, 768),                                                   \n",
            "                              (None, 124, 768),                                                   \n",
            "                              (None, 124, 768),                                                   \n",
            "                              (None, 124, 768),                                                   \n",
            "                              (None, 124, 768),                                                   \n",
            "                              (None, 124, 768),                                                   \n",
            "                              (None, 124, 768)),                                                  \n",
            "                              attentions=None, cross_at                                           \n",
            "                             tentions=None)                                                       \n",
            "                                                                                                  \n",
            " tf.__operators__.getitem (  (None, 768)                  0         ['tf_bert_model[0][13]']      \n",
            " SlicingOpLambda)                                                                                 \n",
            "                                                                                                  \n",
            " concatenate (Concatenate)   (None, 1536)                 0         ['tf.__operators__.getitem[0][\n",
            "                                                                    0]',                          \n",
            "                                                                     'tf_bert_model[0][14]']      \n",
            "                                                                                                  \n",
            " dense (Dense)               (None, 32)                   49184     ['concatenate[0][0]']         \n",
            "                                                                                                  \n",
            " dropout_37 (Dropout)        (None, 32)                   0         ['dense[0][0]']               \n",
            "                                                                                                  \n",
            " dense_1 (Dense)             (None, 8)                    264       ['dropout_37[0][0]']          \n",
            "                                                                                                  \n",
            " dense_2 (Dense)             (None, 2)                    18        ['dense_1[0][0]']             \n",
            "                                                                                                  \n",
            "==================================================================================================\n",
            "Total params: 109531706 (417.83 MB)\n",
            "Trainable params: 49466 (193.23 KB)\n",
            "Non-trainable params: 109482240 (417.64 MB)\n",
            "__________________________________________________________________________________________________\n"
          ]
        }
      ],
      "source": [
        "model = create_model(bert_model)\n",
        "\n",
        "model.compile(optimizer=\"adam\",\n",
        "              loss=\"categorical_crossentropy\",\n",
        "              metrics=[\"accuracy\"])\n",
        "model.summary()"
      ]
    },
    {
      "cell_type": "code",
      "execution_count": null,
      "metadata": {
        "colab": {
          "base_uri": "https://localhost:8080/"
        },
        "id": "EwcDDp72aW4f",
        "outputId": "d0534154-87b8-4012-c073-c2a373a7120e"
      },
      "outputs": [
        {
          "output_type": "stream",
          "name": "stdout",
          "text": [
            "Epoch 1/6\n",
            "64/64 [==============================] - 63s 723ms/step - loss: 0.6482 - accuracy: 0.6202 - val_loss: 0.6006 - val_accuracy: 0.6800\n",
            "Epoch 2/6\n",
            "64/64 [==============================] - 43s 671ms/step - loss: 0.5703 - accuracy: 0.7096 - val_loss: 0.5864 - val_accuracy: 0.6778\n",
            "Epoch 3/6\n",
            "64/64 [==============================] - 43s 678ms/step - loss: 0.5301 - accuracy: 0.7353 - val_loss: 0.5061 - val_accuracy: 0.7600\n",
            "Epoch 4/6\n",
            "64/64 [==============================] - 43s 667ms/step - loss: 0.5071 - accuracy: 0.7640 - val_loss: 0.4770 - val_accuracy: 0.7667\n",
            "Epoch 5/6\n",
            "64/64 [==============================] - 44s 682ms/step - loss: 0.5063 - accuracy: 0.7551 - val_loss: 0.4654 - val_accuracy: 0.7711\n",
            "Epoch 6/6\n",
            "64/64 [==============================] - 44s 684ms/step - loss: 0.4887 - accuracy: 0.7696 - val_loss: 0.4521 - val_accuracy: 0.7800\n"
          ]
        }
      ],
      "source": [
        "history = model.fit([X_train, train_mask],\n",
        "                    y_train,\n",
        "                    batch_size=64,\n",
        "                    epochs=6,\n",
        "                    validation_data=([X_val, val_mask], y_val))"
      ]
    },
    {
      "cell_type": "code",
      "execution_count": null,
      "metadata": {
        "colab": {
          "base_uri": "https://localhost:8080/",
          "height": 493
        },
        "id": "PIRkXWRsHc4r",
        "outputId": "d54cb763-b203-4018-a17b-ad9fe5babf64"
      },
      "outputs": [
        {
          "output_type": "display_data",
          "data": {
            "text/plain": [
              "<Figure size 1500x500 with 2 Axes>"
            ],
            "image/png": "[encoded data removed]"
          },
          "metadata": {}
        }
      ],
      "source": [
        "plot_training_curves(history)"
      ]
    },
    {
      "cell_type": "code",
      "execution_count": null,
      "metadata": {
        "colab": {
          "base_uri": "https://localhost:8080/"
        },
        "id": "Ncm29kuCHc4r",
        "outputId": "3f3de4bc-0917-4848-df85-38d0b8e9e19b"
      },
      "outputs": [
        {
          "output_type": "stream",
          "name": "stdout",
          "text": [
            "16/16 [==============================] - 8s 275ms/step\n"
          ]
        }
      ],
      "source": [
        "y_predicted_prob = model.predict([X_test, test_mask])\n",
        "y_predicted = np.argmax(y_predicted_prob, axis=1)"
      ]
    },
    {
      "cell_type": "code",
      "source": [
        "y_prob = []\n",
        "for i in range(len(y_predicted_prob)):\n",
        "  y_prob.append(y_predicted_prob[i][1])"
      ],
      "metadata": {
        "id": "tqe0qB0ZTQhl"
      },
      "execution_count": null,
      "outputs": []
    },
    {
      "cell_type": "code",
      "execution_count": null,
      "metadata": {
        "colab": {
          "base_uri": "https://localhost:8080/"
        },
        "id": "IQdv1siQHc4s",
        "outputId": "6d75e2f8-ecce-496d-a473-578038eaf5bd"
      },
      "outputs": [
        {
          "output_type": "stream",
          "name": "stdout",
          "text": [
            "Accuracy Score:\t\t0.7794\n",
            "Precision_score:\t0.7805\n",
            "Recall_score:\t\t0.7780\n",
            "F1_score:\t\t0.7781\n",
            "AUC Score:\t\t0.8549\n"
          ]
        }
      ],
      "source": [
        "generate_preformance_scores(y_tested, y_predicted, y_prob)"
      ]
    },
    {
      "cell_type": "code",
      "execution_count": null,
      "metadata": {
        "colab": {
          "base_uri": "https://localhost:8080/",
          "height": 339
        },
        "id": "414Yefb3Hc4s",
        "outputId": "56c01858-25d0-4842-c448-9e06cb4439c8"
      },
      "outputs": [
        {
          "output_type": "display_data",
          "data": {
            "text/plain": [
              "<Figure size 300x300 with 1 Axes>"
            ],
            "image/png": "[encoded data removed]"
          },
          "metadata": {}
        }
      ],
      "source": [
        "plot_confusion_matrix(y_tested, y_predicted, figsize=(3, 3))"
      ]
    },
    {
      "cell_type": "code",
      "execution_count": null,
      "metadata": {
        "colab": {
          "base_uri": "https://localhost:8080/",
          "height": 492
        },
        "id": "A2F8NCB0NgrC",
        "outputId": "7e7c1d3c-8433-4c3d-d8d7-00532a6e364a"
      },
      "outputs": [
        {
          "output_type": "display_data",
          "data": {
            "text/plain": [
              "<Figure size 500x500 with 1 Axes>"
            ],
            "image/png": "[encoded data removed]"
          },
          "metadata": {}
        }
      ],
      "source": [
        "plot_roc_curve(y_tested, y_prob)"
      ]
    },
    {
      "cell_type": "markdown",
      "metadata": {
        "id": "Ir0UICPk8EBB"
      },
      "source": [
        "## Bert fine tuning"
      ]
    },
    {
      "cell_type": "code",
      "execution_count": null,
      "metadata": {
        "id": "gqzaatIu8EBR"
      },
      "outputs": [],
      "source": [
        "def create_model(model):\n",
        "    input_ids = keras.Input(shape=(max_length,), dtype='int32')\n",
        "    attention_masks = keras.Input(shape=(max_length,), dtype='int32')\n",
        "\n",
        "    output = model(input_ids, attention_masks)\n",
        "    encoder_output = output[0]\n",
        "    pooler_output = output[1]\n",
        "    output = keras.layers.Concatenate()([encoder_output[:,0,:], pooler_output])\n",
        "\n",
        "    output = keras.layers.Dense(16, activation='relu')(output)\n",
        "    output = keras.layers.Dropout(0.25)(output)\n",
        "    output = keras.layers.Dense(8, activation='relu')(output)\n",
        "    output = keras.layers.Dense(df['sentiment'].nunique(), activation='softmax')(output)\n",
        "    model = keras.models.Model(inputs=[input_ids, attention_masks],\n",
        "                                  outputs=output)\n",
        "\n",
        "    return model"
      ]
    },
    {
      "cell_type": "code",
      "execution_count": null,
      "metadata": {
        "colab": {
          "base_uri": "https://localhost:8080/"
        },
        "id": "qhlt9KAD8EBS",
        "outputId": "b03c2f85-4cb4-41c6-d53e-6e29c95b90fd"
      },
      "outputs": [
        {
          "output_type": "stream",
          "name": "stdout",
          "text": [
            "Model: \"model_1\"\n",
            "__________________________________________________________________________________________________\n",
            " Layer (type)                Output Shape                 Param #   Connected to                  \n",
            "==================================================================================================\n",
            " input_5 (InputLayer)        [(None, 124)]                0         []                            \n",
            "                                                                                                  \n",
            " input_6 (InputLayer)        [(None, 124)]                0         []                            \n",
            "                                                                                                  \n",
            " tf_bert_model (TFBertModel  TFBaseModelOutputWithPooli   1094822   ['input_5[0][0]',             \n",
            " )                           ngAndCrossAttentions(last_   40         'input_6[0][0]']             \n",
            "                             hidden_state=(None, 124, 7                                           \n",
            "                             68),                                                                 \n",
            "                              pooler_output=(None, 768)                                           \n",
            "                             , past_key_values=None, hi                                           \n",
            "                             dden_states=((None, 124, 7                                           \n",
            "                             68),                                                                 \n",
            "                              (None, 124, 768),                                                   \n",
            "                              (None, 124, 768),                                                   \n",
            "                              (None, 124, 768),                                                   \n",
            "                              (None, 124, 768),                                                   \n",
            "                              (None, 124, 768),                                                   \n",
            "                              (None, 124, 768),                                                   \n",
            "                              (None, 124, 768),                                                   \n",
            "                              (None, 124, 768),                                                   \n",
            "                              (None, 124, 768),                                                   \n",
            "                              (None, 124, 768),                                                   \n",
            "                              (None, 124, 768),                                                   \n",
            "                              (None, 124, 768)),                                                  \n",
            "                              attentions=None, cross_at                                           \n",
            "                             tentions=None)                                                       \n",
            "                                                                                                  \n",
            " tf.__operators__.getitem_2  (None, 768)                  0         ['tf_bert_model[2][13]']      \n",
            "  (SlicingOpLambda)                                                                               \n",
            "                                                                                                  \n",
            " concatenate_2 (Concatenate  (None, 1536)                 0         ['tf.__operators__.getitem_2[0\n",
            " )                                                                  ][0]',                        \n",
            "                                                                     'tf_bert_model[2][14]']      \n",
            "                                                                                                  \n",
            " dense_5 (Dense)             (None, 16)                   24592     ['concatenate_2[0][0]']       \n",
            "                                                                                                  \n",
            " dropout_39 (Dropout)        (None, 16)                   0         ['dense_5[0][0]']             \n",
            "                                                                                                  \n",
            " dense_6 (Dense)             (None, 8)                    136       ['dropout_39[0][0]']          \n",
            "                                                                                                  \n",
            " dense_7 (Dense)             (None, 2)                    18        ['dense_6[0][0]']             \n",
            "                                                                                                  \n",
            "==================================================================================================\n",
            "Total params: 109506986 (417.74 MB)\n",
            "Trainable params: 24746 (96.66 KB)\n",
            "Non-trainable params: 109482240 (417.64 MB)\n",
            "__________________________________________________________________________________________________\n"
          ]
        }
      ],
      "source": [
        "model = create_model(bert_model)\n",
        "\n",
        "model.compile(optimizer=\"adam\",\n",
        "              loss=\"categorical_crossentropy\",\n",
        "              metrics=[\"accuracy\"])\n",
        "model.summary()"
      ]
    },
    {
      "cell_type": "code",
      "execution_count": null,
      "metadata": {
        "colab": {
          "base_uri": "https://localhost:8080/"
        },
        "id": "Udxfcadt8EBS",
        "outputId": "8bf2c06a-15a0-4454-c7a4-c71de1ce7373"
      },
      "outputs": [
        {
          "output_type": "stream",
          "name": "stdout",
          "text": [
            "Epoch 1/6\n",
            "127/127 [==============================] - 62s 383ms/step - loss: 0.6873 - accuracy: 0.5457 - val_loss: 0.6628 - val_accuracy: 0.6244\n",
            "Epoch 2/6\n",
            "127/127 [==============================] - 44s 350ms/step - loss: 0.6482 - accuracy: 0.6373 - val_loss: 0.6139 - val_accuracy: 0.7200\n",
            "Epoch 3/6\n",
            "127/127 [==============================] - 45s 357ms/step - loss: 0.6108 - accuracy: 0.6835 - val_loss: 0.6480 - val_accuracy: 0.6422\n",
            "Epoch 4/6\n",
            "127/127 [==============================] - 44s 347ms/step - loss: 0.5854 - accuracy: 0.7012 - val_loss: 0.5410 - val_accuracy: 0.7667\n",
            "Epoch 5/6\n",
            "127/127 [==============================] - 44s 347ms/step - loss: 0.5868 - accuracy: 0.6975 - val_loss: 0.5785 - val_accuracy: 0.7044\n",
            "Epoch 6/6\n",
            "127/127 [==============================] - 43s 341ms/step - loss: 0.5806 - accuracy: 0.7005 - val_loss: 0.5095 - val_accuracy: 0.7622\n"
          ]
        }
      ],
      "source": [
        "history = model.fit([X_train, train_mask],\n",
        "                    y_train,\n",
        "                    batch_size=32,\n",
        "                    epochs=6,\n",
        "                    validation_data=([X_val, val_mask], y_val))"
      ]
    },
    {
      "cell_type": "code",
      "execution_count": null,
      "metadata": {
        "id": "vykqemT68EBT",
        "colab": {
          "base_uri": "https://localhost:8080/",
          "height": 493
        },
        "outputId": "ecdfc4ab-01d2-42bb-d540-2acfc97d715b"
      },
      "outputs": [
        {
          "output_type": "display_data",
          "data": {
            "text/plain": [
              "<Figure size 1500x500 with 2 Axes>"
            ],
            "image/png": "[encoded data removed]"
          },
          "metadata": {}
        }
      ],
      "source": [
        "plot_training_curves(history)"
      ]
    },
    {
      "cell_type": "code",
      "execution_count": null,
      "metadata": {
        "id": "WqmCCLWQ8EBT",
        "colab": {
          "base_uri": "https://localhost:8080/"
        },
        "outputId": "e57518a9-e178-422f-dbdb-c424cf52e4c0"
      },
      "outputs": [
        {
          "output_type": "stream",
          "name": "stdout",
          "text": [
            "16/16 [==============================] - 7s 275ms/step\n"
          ]
        }
      ],
      "source": [
        "y_predicted_prob = model.predict([X_test, test_mask]) # обучения модели на тестовом наборе\n",
        "y_predicted = np.argmax(y_predicted_prob, axis=1)"
      ]
    },
    {
      "cell_type": "code",
      "source": [
        "y_prob = []\n",
        "for i in range(len(y_predicted_prob)):\n",
        "  y_prob.append(y_predicted_prob[i][1])"
      ],
      "metadata": {
        "id": "y-6bRaagUm_h"
      },
      "execution_count": null,
      "outputs": []
    },
    {
      "cell_type": "code",
      "execution_count": null,
      "metadata": {
        "colab": {
          "base_uri": "https://localhost:8080/"
        },
        "outputId": "d8d202bb-a08c-4cb0-aa0f-9448f408510f",
        "id": "K2swf34RUm_i"
      },
      "outputs": [
        {
          "output_type": "stream",
          "name": "stdout",
          "text": [
            "Accuracy Score:\t\t0.7517\n",
            "Precision_score:\t0.7523\n",
            "Recall_score:\t\t0.7520\n",
            "F1_score:\t\t0.7521\n",
            "AUC Score:\t\t0.8198\n"
          ]
        }
      ],
      "source": [
        "generate_preformance_scores(y_tested, y_predicted, y_prob)"
      ]
    },
    {
      "cell_type": "code",
      "execution_count": null,
      "metadata": {
        "colab": {
          "base_uri": "https://localhost:8080/",
          "height": 339
        },
        "outputId": "c0f57d42-52d0-449b-b088-ce9508aed7e2",
        "id": "0bvLHq3LUm_i"
      },
      "outputs": [
        {
          "output_type": "display_data",
          "data": {
            "text/plain": [
              "<Figure size 300x300 with 1 Axes>"
            ],
            "image/png": "[encoded data removed]"
          },
          "metadata": {}
        }
      ],
      "source": [
        "plot_confusion_matrix(y_tested, y_predicted, figsize=(3, 3))"
      ]
    },
    {
      "cell_type": "code",
      "execution_count": null,
      "metadata": {
        "colab": {
          "base_uri": "https://localhost:8080/",
          "height": 492
        },
        "outputId": "7cafcbae-2d78-42b6-9ca9-bd5a6c8df510",
        "id": "C77-usLwUm_i"
      },
      "outputs": [
        {
          "output_type": "display_data",
          "data": {
            "text/plain": [
              "<Figure size 500x500 with 1 Axes>"
            ],
            "image/png": "[encoded data removed]"
          },
          "metadata": {}
        }
      ],
      "source": [
        "plot_roc_curve(y_tested, y_prob)"
      ]
    },
    {
      "cell_type": "markdown",
      "metadata": {
        "id": "BaPLsUggk-Tj"
      },
      "source": [
        "# Чтение данных"
      ]
    },
    {
      "cell_type": "code",
      "execution_count": null,
      "metadata": {
        "colab": {
          "base_uri": "https://localhost:8080/",
          "height": 206
        },
        "id": "IpGQn3S1k-T-",
        "outputId": "fba26bb9-1915-4af8-84a6-5207f5409bcd"
      },
      "outputs": [
        {
          "output_type": "execute_result",
          "data": {
            "text/plain": [
              "                                                text sentiment\n",
              "0  My daughter liked it but I was aghast, that a ...       neg\n",
              "1  I... No words. No words can describe this. I w...       neg\n",
              "2  this film is basically a poor take on the old ...       neg\n",
              "3  This is a terrible movie, and I'm not even sur...       neg\n",
              "4  First of all this movie is a piece of reality ...       pos"
            ],
            "text/html": [
              "\n",
              "  <div id=\"df-b356a05c-01b2-41a7-aa1d-a0b8899d353e\" class=\"colab-df-container\">\n",
              "    <div>\n",
              "<style scoped>\n",
              "    .dataframe tbody tr th:only-of-type {\n",
              "        vertical-align: middle;\n",
              "    }\n",
              "\n",
              "    .dataframe tbody tr th {\n",
              "        vertical-align: top;\n",
              "    }\n",
              "\n",
              "    .dataframe thead th {\n",
              "        text-align: right;\n",
              "    }\n",
              "</style>\n",
              "<table border=\"1\" class=\"dataframe\">\n",
              "  <thead>\n",
              "    <tr style=\"text-align: right;\">\n",
              "      <th></th>\n",
              "      <th>text</th>\n",
              "      <th>sentiment</th>\n",
              "    </tr>\n",
              "  </thead>\n",
              "  <tbody>\n",
              "    <tr>\n",
              "      <th>0</th>\n",
              "      <td>My daughter liked it but I was aghast, that a ...</td>\n",
              "      <td>neg</td>\n",
              "    </tr>\n",
              "    <tr>\n",
              "      <th>1</th>\n",
              "      <td>I... No words. No words can describe this. I w...</td>\n",
              "      <td>neg</td>\n",
              "    </tr>\n",
              "    <tr>\n",
              "      <th>2</th>\n",
              "      <td>this film is basically a poor take on the old ...</td>\n",
              "      <td>neg</td>\n",
              "    </tr>\n",
              "    <tr>\n",
              "      <th>3</th>\n",
              "      <td>This is a terrible movie, and I'm not even sur...</td>\n",
              "      <td>neg</td>\n",
              "    </tr>\n",
              "    <tr>\n",
              "      <th>4</th>\n",
              "      <td>First of all this movie is a piece of reality ...</td>\n",
              "      <td>pos</td>\n",
              "    </tr>\n",
              "  </tbody>\n",
              "</table>\n",
              "</div>\n",
              "    <div class=\"colab-df-buttons\">\n",
              "\n",
              "  <div class=\"colab-df-container\">\n",
              "    <button class=\"colab-df-convert\" onclick=\"convertToInteractive('df-b356a05c-01b2-41a7-aa1d-a0b8899d353e')\"\n",
              "            title=\"Convert this dataframe to an interactive table.\"\n",
              "            style=\"display:none;\">\n",
              "\n",
              "  <svg xmlns=\"http://www.w3.org/2000/svg\" height=\"24px\" viewBox=\"0 -960 960 960\">\n",
              "    <path d=\"M120-120v-720h720v720H120Zm60-500h600v-160H180v160Zm220 220h160v-160H400v160Zm0 220h160v-160H400v160ZM180-400h160v-160H180v160Zm440 0h160v-160H620v160ZM180-180h160v-160H180v160Zm440 0h160v-160H620v160Z\"/>\n",
              "  </svg>\n",
              "    </button>\n",
              "\n",
              "  <style>\n",
              "    .colab-df-container {\n",
              "      display:flex;\n",
              "      gap: 12px;\n",
              "    }\n",
              "\n",
              "    .colab-df-convert {\n",
              "      background-color: #E8F0FE;\n",
              "      border: none;\n",
              "      border-radius: 50%;\n",
              "      cursor: pointer;\n",
              "      display: none;\n",
              "      fill: #1967D2;\n",
              "      height: 32px;\n",
              "      padding: 0 0 0 0;\n",
              "      width: 32px;\n",
              "    }\n",
              "\n",
              "    .colab-df-convert:hover {\n",
              "      background-color: #E2EBFA;\n",
              "      box-shadow: 0px 1px 2px rgba(60, 64, 67, 0.3), 0px 1px 3px 1px rgba(60, 64, 67, 0.15);\n",
              "      fill: #174EA6;\n",
              "    }\n",
              "\n",
              "    .colab-df-buttons div {\n",
              "      margin-bottom: 4px;\n",
              "    }\n",
              "\n",
              "    [theme=dark] .colab-df-convert {\n",
              "      background-color: #3B4455;\n",
              "      fill: #D2E3FC;\n",
              "    }\n",
              "\n",
              "    [theme=dark] .colab-df-convert:hover {\n",
              "      background-color: #434B5C;\n",
              "      box-shadow: 0px 1px 3px 1px rgba(0, 0, 0, 0.15);\n",
              "      filter: drop-shadow(0px 1px 2px rgba(0, 0, 0, 0.3));\n",
              "      fill: #FFFFFF;\n",
              "    }\n",
              "  </style>\n",
              "\n",
              "    <script>\n",
              "      const buttonEl =\n",
              "        document.querySelector('#df-b356a05c-01b2-41a7-aa1d-a0b8899d353e button.colab-df-convert');\n",
              "      buttonEl.style.display =\n",
              "        google.colab.kernel.accessAllowed ? 'block' : 'none';\n",
              "\n",
              "      async function convertToInteractive(key) {\n",
              "        const element = document.querySelector('#df-b356a05c-01b2-41a7-aa1d-a0b8899d353e');\n",
              "        const dataTable =\n",
              "          await google.colab.kernel.invokeFunction('convertToInteractive',\n",
              "                                                    [key], {});\n",
              "        if (!dataTable) return;\n",
              "\n",
              "        const docLinkHtml = 'Like what you see? Visit the ' +\n",
              "          '<a target=\"_blank\" href=https://colab.research.google.com/notebooks/data_table.ipynb>data table notebook</a>'\n",
              "          + ' to learn more about interactive tables.';\n",
              "        element.innerHTML = '';\n",
              "        dataTable['output_type'] = 'display_data';\n",
              "        await google.colab.output.renderOutput(dataTable, element);\n",
              "        const docLink = document.createElement('div');\n",
              "        docLink.innerHTML = docLinkHtml;\n",
              "        element.appendChild(docLink);\n",
              "      }\n",
              "    </script>\n",
              "  </div>\n",
              "\n",
              "\n",
              "<div id=\"df-9abb44d8-d8e0-44f8-974e-00a2ff9c835b\">\n",
              "  <button class=\"colab-df-quickchart\" onclick=\"quickchart('df-9abb44d8-d8e0-44f8-974e-00a2ff9c835b')\"\n",
              "            title=\"Suggest charts\"\n",
              "            style=\"display:none;\">\n",
              "\n",
              "<svg xmlns=\"http://www.w3.org/2000/svg\" height=\"24px\"viewBox=\"0 0 24 24\"\n",
              "     width=\"24px\">\n",
              "    <g>\n",
              "        <path d=\"M19 3H5c-1.1 0-2 .9-2 2v14c0 1.1.9 2 2 2h14c1.1 0 2-.9 2-2V5c0-1.1-.9-2-2-2zM9 17H7v-7h2v7zm4 0h-2V7h2v10zm4 0h-2v-4h2v4z\"/>\n",
              "    </g>\n",
              "</svg>\n",
              "  </button>\n",
              "\n",
              "<style>\n",
              "  .colab-df-quickchart {\n",
              "      --bg-color: #E8F0FE;\n",
              "      --fill-color: #1967D2;\n",
              "      --hover-bg-color: #E2EBFA;\n",
              "      --hover-fill-color: #174EA6;\n",
              "      --disabled-fill-color: #AAA;\n",
              "      --disabled-bg-color: #DDD;\n",
              "  }\n",
              "\n",
              "  [theme=dark] .colab-df-quickchart {\n",
              "      --bg-color: #3B4455;\n",
              "      --fill-color: #D2E3FC;\n",
              "      --hover-bg-color: #434B5C;\n",
              "      --hover-fill-color: #FFFFFF;\n",
              "      --disabled-bg-color: #3B4455;\n",
              "      --disabled-fill-color: #666;\n",
              "  }\n",
              "\n",
              "  .colab-df-quickchart {\n",
              "    background-color: var(--bg-color);\n",
              "    border: none;\n",
              "    border-radius: 50%;\n",
              "    cursor: pointer;\n",
              "    display: none;\n",
              "    fill: var(--fill-color);\n",
              "    height: 32px;\n",
              "    padding: 0;\n",
              "    width: 32px;\n",
              "  }\n",
              "\n",
              "  .colab-df-quickchart:hover {\n",
              "    background-color: var(--hover-bg-color);\n",
              "    box-shadow: 0 1px 2px rgba(60, 64, 67, 0.3), 0 1px 3px 1px rgba(60, 64, 67, 0.15);\n",
              "    fill: var(--button-hover-fill-color);\n",
              "  }\n",
              "\n",
              "  .colab-df-quickchart-complete:disabled,\n",
              "  .colab-df-quickchart-complete:disabled:hover {\n",
              "    background-color: var(--disabled-bg-color);\n",
              "    fill: var(--disabled-fill-color);\n",
              "    box-shadow: none;\n",
              "  }\n",
              "\n",
              "  .colab-df-spinner {\n",
              "    border: 2px solid var(--fill-color);\n",
              "    border-color: transparent;\n",
              "    border-bottom-color: var(--fill-color);\n",
              "    animation:\n",
              "      spin 1s steps(1) infinite;\n",
              "  }\n",
              "\n",
              "  @keyframes spin {\n",
              "    0% {\n",
              "      border-color: transparent;\n",
              "      border-bottom-color: var(--fill-color);\n",
              "      border-left-color: var(--fill-color);\n",
              "    }\n",
              "    20% {\n",
              "      border-color: transparent;\n",
              "      border-left-color: var(--fill-color);\n",
              "      border-top-color: var(--fill-color);\n",
              "    }\n",
              "    30% {\n",
              "      border-color: transparent;\n",
              "      border-left-color: var(--fill-color);\n",
              "      border-top-color: var(--fill-color);\n",
              "      border-right-color: var(--fill-color);\n",
              "    }\n",
              "    40% {\n",
              "      border-color: transparent;\n",
              "      border-right-color: var(--fill-color);\n",
              "      border-top-color: var(--fill-color);\n",
              "    }\n",
              "    60% {\n",
              "      border-color: transparent;\n",
              "      border-right-color: var(--fill-color);\n",
              "    }\n",
              "    80% {\n",
              "      border-color: transparent;\n",
              "      border-right-color: var(--fill-color);\n",
              "      border-bottom-color: var(--fill-color);\n",
              "    }\n",
              "    90% {\n",
              "      border-color: transparent;\n",
              "      border-bottom-color: var(--fill-color);\n",
              "    }\n",
              "  }\n",
              "</style>\n",
              "\n",
              "  <script>\n",
              "    async function quickchart(key) {\n",
              "      const quickchartButtonEl =\n",
              "        document.querySelector('#' + key + ' button');\n",
              "      quickchartButtonEl.disabled = true;  // To prevent multiple clicks.\n",
              "      quickchartButtonEl.classList.add('colab-df-spinner');\n",
              "      try {\n",
              "        const charts = await google.colab.kernel.invokeFunction(\n",
              "            'suggestCharts', [key], {});\n",
              "      } catch (error) {\n",
              "        console.error('Error during call to suggestCharts:', error);\n",
              "      }\n",
              "      quickchartButtonEl.classList.remove('colab-df-spinner');\n",
              "      quickchartButtonEl.classList.add('colab-df-quickchart-complete');\n",
              "    }\n",
              "    (() => {\n",
              "      let quickchartButtonEl =\n",
              "        document.querySelector('#df-9abb44d8-d8e0-44f8-974e-00a2ff9c835b button');\n",
              "      quickchartButtonEl.style.display =\n",
              "        google.colab.kernel.accessAllowed ? 'block' : 'none';\n",
              "    })();\n",
              "  </script>\n",
              "</div>\n",
              "    </div>\n",
              "  </div>\n"
            ]
          },
          "metadata": {},
          "execution_count": 74
        }
      ],
      "source": [
        "df = pd.read_excel(\"https://docs.google.com/spreadsheets/d/e/2PACX-1vQFF3mjUeHP3CWhZqdeVInESL3eFN72K1urhfuBWoiG9bXwZqRt-7Cjaf2Ls5fltDXd_D7nk75SLcPC/pub?output=xlsx\")\n",
        "df.head()"
      ]
    },
    {
      "cell_type": "code",
      "execution_count": null,
      "metadata": {
        "id": "3nF6K5mnk-T_"
      },
      "outputs": [],
      "source": [
        "df[\"text\"] = df[\"text\"].apply(unify_fragment)"
      ]
    },
    {
      "cell_type": "code",
      "execution_count": null,
      "metadata": {
        "id": "N97V39nGk-T_"
      },
      "outputs": [],
      "source": [
        "encoder = LabelEncoder()\n",
        "df[\"label\"] = encoder.fit_transform(df[\"sentiment\"])"
      ]
    },
    {
      "cell_type": "code",
      "execution_count": null,
      "metadata": {
        "id": "xIdwNH1nkDOW"
      },
      "outputs": [],
      "source": [
        "from tensorflow.keras.preprocessing.text import Tokenizer"
      ]
    },
    {
      "cell_type": "code",
      "execution_count": null,
      "metadata": {
        "id": "qzNBKKpEkH2z"
      },
      "outputs": [],
      "source": [
        "# Создаем токенизатор и обучаем его на всех текстах\n",
        "tokenizer = Tokenizer()\n",
        "tokenizer.fit_on_texts(df[\"text\"])"
      ]
    },
    {
      "cell_type": "code",
      "execution_count": null,
      "metadata": {
        "id": "GwAo13Pwkb-s"
      },
      "outputs": [],
      "source": [
        "X_train, X_test, y_train, y_test = train_test_split(df[\"text\"], df[\"label\"], test_size=0.1, random_state = 47)"
      ]
    },
    {
      "cell_type": "code",
      "execution_count": null,
      "metadata": {
        "id": "Rx01EBC2sXGq"
      },
      "outputs": [],
      "source": [
        "from keras.utils import to_categorical"
      ]
    },
    {
      "cell_type": "code",
      "execution_count": null,
      "metadata": {
        "id": "cKfE9HWjsXC2"
      },
      "outputs": [],
      "source": [
        "y_train = to_categorical(y_train)\n",
        "y_test = to_categorical(y_test)"
      ]
    },
    {
      "cell_type": "code",
      "source": [
        "y_tested = np.argmax(y_test, axis=1)"
      ],
      "metadata": {
        "id": "cGNSHFkAf7ww"
      },
      "execution_count": null,
      "outputs": []
    },
    {
      "cell_type": "code",
      "execution_count": null,
      "metadata": {
        "id": "XeuQcyuprSOD"
      },
      "outputs": [],
      "source": [
        "from tensorflow.keras.preprocessing.sequence import pad_sequences"
      ]
    },
    {
      "cell_type": "code",
      "execution_count": null,
      "metadata": {
        "id": "gSZ6lfu2jxsE"
      },
      "outputs": [],
      "source": [
        "# Преобразуем тексты в последовательности целых чисел\n",
        "train_sequences = tokenizer.texts_to_sequences(X_train)\n",
        "test_sequences = tokenizer.texts_to_sequences(X_test)\n",
        "\n",
        "# Определяем максимальную длину последовательности\n",
        "max_length = max([len(x) for x in train_sequences])\n",
        "\n",
        "# Дополняем последовательности до максимальной длины\n",
        "train_padded = pad_sequences(train_sequences, maxlen=max_length, padding='post')\n",
        "test_padded = pad_sequences(test_sequences, maxlen=max_length, padding='post')\n",
        "\n",
        "vocab_size = len(tokenizer.word_index) + 1  # Размер словаря"
      ]
    },
    {
      "cell_type": "markdown",
      "metadata": {
        "id": "3NEumW1Ll9Cw"
      },
      "source": [
        "## LSTM"
      ]
    },
    {
      "cell_type": "code",
      "execution_count": null,
      "metadata": {
        "id": "69y3WWQqrXzc"
      },
      "outputs": [],
      "source": [
        "model = keras.models.Sequential()\n",
        "model.add(keras.layers.Embedding(input_dim=vocab_size, output_dim=256, input_length=max_length))\n",
        "model.add(keras.layers.LSTM(256, return_sequences=True))\n",
        "model.add(keras.layers.LSTM(256))\n",
        "model.add(keras.layers.Dropout(0.25))\n",
        "model.add(keras.layers.Dense(16, activation='relu'))\n",
        "model.add(keras.layers.Dropout(0.2))\n",
        "model.add(keras.layers.Dense(8, activation='relu'))\n",
        "model.add(keras.layers.Dense(df['sentiment'].nunique(), activation='softmax'))"
      ]
    },
    {
      "cell_type": "code",
      "execution_count": null,
      "metadata": {
        "colab": {
          "base_uri": "https://localhost:8080/"
        },
        "id": "azVjpY5irXuI",
        "outputId": "854d362d-de28-4e07-edd9-ce711b5ec9ad"
      },
      "outputs": [
        {
          "output_type": "stream",
          "name": "stdout",
          "text": [
            "Model: \"sequential_5\"\n",
            "_________________________________________________________________\n",
            " Layer (type)                Output Shape              Param #   \n",
            "=================================================================\n",
            " embedding_5 (Embedding)     (None, 2389, 256)         18886400  \n",
            "                                                                 \n",
            " lstm_10 (LSTM)              (None, 2389, 256)         525312    \n",
            "                                                                 \n",
            " lstm_11 (LSTM)              (None, 256)               525312    \n",
            "                                                                 \n",
            " dropout_40 (Dropout)        (None, 256)               0         \n",
            "                                                                 \n",
            " dense_13 (Dense)            (None, 16)                4112      \n",
            "                                                                 \n",
            " dropout_41 (Dropout)        (None, 16)                0         \n",
            "                                                                 \n",
            " dense_14 (Dense)            (None, 8)                 136       \n",
            "                                                                 \n",
            " dense_15 (Dense)            (None, 2)                 18        \n",
            "                                                                 \n",
            "=================================================================\n",
            "Total params: 19941290 (76.07 MB)\n",
            "Trainable params: 19941290 (76.07 MB)\n",
            "Non-trainable params: 0 (0.00 Byte)\n",
            "_________________________________________________________________\n"
          ]
        }
      ],
      "source": [
        "model.compile(optimizer=\"adam\",\n",
        "              loss=\"categorical_crossentropy\",\n",
        "              metrics=[\"accuracy\"])\n",
        "model.summary()"
      ]
    },
    {
      "cell_type": "code",
      "execution_count": null,
      "metadata": {
        "colab": {
          "base_uri": "https://localhost:8080/"
        },
        "id": "PaCAmX_3r6mW",
        "outputId": "710e77e7-650a-45f3-9bbd-c84512a61b04"
      },
      "outputs": [
        {
          "output_type": "stream",
          "name": "stdout",
          "text": [
            "Epoch 1/6\n",
            "633/633 [==============================] - 205s 317ms/step - loss: 0.6938 - accuracy: 0.5001 - val_loss: 0.6933 - val_accuracy: 0.4956\n",
            "Epoch 2/6\n",
            "633/633 [==============================] - 184s 290ms/step - loss: 0.6933 - accuracy: 0.4980 - val_loss: 0.6933 - val_accuracy: 0.4956\n",
            "Epoch 3/6\n",
            "633/633 [==============================] - 177s 279ms/step - loss: 0.6932 - accuracy: 0.4967 - val_loss: 0.6931 - val_accuracy: 0.5044\n",
            "Epoch 4/6\n",
            "633/633 [==============================] - 173s 274ms/step - loss: 0.6932 - accuracy: 0.4950 - val_loss: 0.6931 - val_accuracy: 0.5044\n",
            "Epoch 5/6\n",
            "633/633 [==============================] - 172s 271ms/step - loss: 0.6932 - accuracy: 0.5024 - val_loss: 0.6934 - val_accuracy: 0.4956\n",
            "Epoch 6/6\n",
            "633/633 [==============================] - 169s 266ms/step - loss: 0.6932 - accuracy: 0.5009 - val_loss: 0.6931 - val_accuracy: 0.5044\n"
          ]
        }
      ],
      "source": [
        "history = model.fit(train_padded,\n",
        "                    y_train,\n",
        "                    batch_size=32,\n",
        "                    epochs=6,\n",
        "                    validation_split=0.1)"
      ]
    },
    {
      "cell_type": "code",
      "execution_count": null,
      "metadata": {
        "colab": {
          "base_uri": "https://localhost:8080/",
          "height": 493
        },
        "id": "Z9br-xrthrbq",
        "outputId": "66a7d929-5608-4289-9cad-3bf006a8ad4b"
      },
      "outputs": [
        {
          "output_type": "display_data",
          "data": {
            "text/plain": [
              "<Figure size 1500x500 with 2 Axes>"
            ],
            "image/png": "[encoded data removed]"
          },
          "metadata": {}
        }
      ],
      "source": [
        "plot_training_curves(history)"
      ]
    },
    {
      "cell_type": "code",
      "execution_count": null,
      "metadata": {
        "colab": {
          "base_uri": "https://localhost:8080/"
        },
        "id": "GoGk84Zshrbs",
        "outputId": "f7e78481-7827-4a88-e331-00db68061d4e"
      },
      "outputs": [
        {
          "output_type": "stream",
          "name": "stdout",
          "text": [
            "79/79 [==============================] - 9s 105ms/step\n"
          ]
        }
      ],
      "source": [
        "y_predicted_prob = model.predict(test_padded) # обучения модели на тестовом наборе\n",
        "y_predicted = np.argmax(y_predicted_prob, axis=1) # перевод вероятностей в метки [0, 1] с порогом 0.5"
      ]
    },
    {
      "cell_type": "code",
      "source": [
        "y_prob = []\n",
        "for i in range(len(y_predicted_prob)):\n",
        "  y_prob.append(y_predicted_prob[i][1])"
      ],
      "metadata": {
        "id": "oH3RB04TWS50"
      },
      "execution_count": null,
      "outputs": []
    },
    {
      "cell_type": "code",
      "execution_count": null,
      "metadata": {
        "colab": {
          "base_uri": "https://localhost:8080/"
        },
        "outputId": "cfc3f3c6-f9c4-4610-a0b4-1b3301f4938f",
        "id": "3WvwzY4BWS50"
      },
      "outputs": [
        {
          "output_type": "stream",
          "name": "stdout",
          "text": [
            "Accuracy Score:\t\t0.5000\n",
            "Precision_score:\t0.2432\n",
            "Recall_score:\t\t0.4932\n",
            "F1_score:\t\t0.3258\n",
            "AUC Score:\t\t0.5000\n"
          ]
        }
      ],
      "source": [
        "generate_preformance_scores(y_tested, y_predicted, y_prob)"
      ]
    },
    {
      "cell_type": "code",
      "execution_count": null,
      "metadata": {
        "colab": {
          "base_uri": "https://localhost:8080/",
          "height": 339
        },
        "outputId": "b5cea19a-2aed-4f42-e1b1-a9f01554943a",
        "id": "YlraTj4kWS50"
      },
      "outputs": [
        {
          "output_type": "display_data",
          "data": {
            "text/plain": [
              "<Figure size 300x300 with 1 Axes>"
            ],
            "image/png": "[encoded data removed]"
          },
          "metadata": {}
        }
      ],
      "source": [
        "plot_confusion_matrix(y_tested, y_predicted, figsize=(3, 3))"
      ]
    },
    {
      "cell_type": "code",
      "execution_count": null,
      "metadata": {
        "colab": {
          "base_uri": "https://localhost:8080/",
          "height": 492
        },
        "outputId": "4ac0e027-8925-4904-aed6-5120e03fb9c8",
        "id": "wiOxTO0cWS50"
      },
      "outputs": [
        {
          "output_type": "display_data",
          "data": {
            "text/plain": [
              "<Figure size 500x500 with 1 Axes>"
            ],
            "image/png": "[encoded data removed]"
          },
          "metadata": {}
        }
      ],
      "source": [
        "plot_roc_curve(y_tested, y_prob)"
      ]
    },
    {
      "cell_type": "markdown",
      "metadata": {
        "id": "8VBgIx96vTAC"
      },
      "source": [
        "## Bi-LSTM"
      ]
    },
    {
      "cell_type": "code",
      "execution_count": null,
      "metadata": {
        "id": "NTBGGPv7vgsr"
      },
      "outputs": [],
      "source": [
        "model = keras.models.Sequential()\n",
        "model.add(keras.layers.Embedding(input_dim=vocab_size, output_dim=256, input_length=max_length))\n",
        "model.add(keras.layers.Bidirectional(keras.layers.LSTM(128, return_sequences=True)))\n",
        "model.add(keras.layers.Bidirectional(keras.layers.LSTM(128)))\n",
        "model.add(keras.layers.Dense(64, activation='relu'))\n",
        "model.add(keras.layers.Dense(df['sentiment'].nunique(), activation='softmax'))"
      ]
    },
    {
      "cell_type": "code",
      "execution_count": null,
      "metadata": {
        "colab": {
          "base_uri": "https://localhost:8080/"
        },
        "id": "8oVbevtxvgss",
        "outputId": "f68bff47-f049-4c2d-82f8-7b230703dd06"
      },
      "outputs": [
        {
          "output_type": "stream",
          "name": "stdout",
          "text": [
            "Model: \"sequential_6\"\n",
            "_________________________________________________________________\n",
            " Layer (type)                Output Shape              Param #   \n",
            "=================================================================\n",
            " embedding_6 (Embedding)     (None, 2389, 256)         18886400  \n",
            "                                                                 \n",
            " bidirectional (Bidirection  (None, 2389, 256)         394240    \n",
            " al)                                                             \n",
            "                                                                 \n",
            " bidirectional_1 (Bidirecti  (None, 256)               394240    \n",
            " onal)                                                           \n",
            "                                                                 \n",
            " dense_16 (Dense)            (None, 64)                16448     \n",
            "                                                                 \n",
            " dense_17 (Dense)            (None, 2)                 130       \n",
            "                                                                 \n",
            "=================================================================\n",
            "Total params: 19691458 (75.12 MB)\n",
            "Trainable params: 19691458 (75.12 MB)\n",
            "Non-trainable params: 0 (0.00 Byte)\n",
            "_________________________________________________________________\n"
          ]
        }
      ],
      "source": [
        "model.compile(optimizer=\"adam\",\n",
        "              loss=\"categorical_crossentropy\",\n",
        "              metrics=[\"accuracy\"])\n",
        "model.summary()"
      ]
    },
    {
      "cell_type": "code",
      "execution_count": null,
      "metadata": {
        "colab": {
          "base_uri": "https://localhost:8080/"
        },
        "id": "5nQMKq7hvgss",
        "outputId": "1871a6d3-7562-4831-f586-894446cd02ab"
      },
      "outputs": [
        {
          "output_type": "stream",
          "name": "stdout",
          "text": [
            "Epoch 1/6\n",
            "317/317 [==============================] - 250s 552ms/step - loss: 0.6127 - accuracy: 0.6695 - val_loss: 0.5671 - val_accuracy: 0.7204\n",
            "Epoch 2/6\n",
            "317/317 [==============================] - 174s 550ms/step - loss: 0.3304 - accuracy: 0.8665 - val_loss: 0.3354 - val_accuracy: 0.8560\n",
            "Epoch 3/6\n",
            "317/317 [==============================] - 171s 538ms/step - loss: 0.2702 - accuracy: 0.8863 - val_loss: 0.5977 - val_accuracy: 0.7227\n",
            "Epoch 4/6\n",
            "317/317 [==============================] - 169s 533ms/step - loss: 0.2125 - accuracy: 0.9203 - val_loss: 0.3958 - val_accuracy: 0.8516\n",
            "Epoch 5/6\n",
            "317/317 [==============================] - 166s 523ms/step - loss: 0.1467 - accuracy: 0.9480 - val_loss: 0.3180 - val_accuracy: 0.8822\n",
            "Epoch 6/6\n",
            "317/317 [==============================] - 165s 519ms/step - loss: 0.0906 - accuracy: 0.9710 - val_loss: 0.3526 - val_accuracy: 0.8849\n"
          ]
        }
      ],
      "source": [
        "history = model.fit(train_padded,\n",
        "                    y_train,\n",
        "                    batch_size=64,\n",
        "                    epochs=6,\n",
        "                    validation_split=0.1)"
      ]
    },
    {
      "cell_type": "code",
      "execution_count": null,
      "metadata": {
        "colab": {
          "base_uri": "https://localhost:8080/",
          "height": 493
        },
        "id": "vwM8BP8hvgst",
        "outputId": "d2897164-a66c-46c1-dae0-a2dfb188c60b"
      },
      "outputs": [
        {
          "output_type": "display_data",
          "data": {
            "text/plain": [
              "<Figure size 1500x500 with 2 Axes>"
            ],
            "image/png": "[encoded data removed]"
          },
          "metadata": {}
        }
      ],
      "source": [
        "plot_training_curves(history)"
      ]
    },
    {
      "cell_type": "code",
      "execution_count": null,
      "metadata": {
        "colab": {
          "base_uri": "https://localhost:8080/"
        },
        "id": "a291iDdkvgst",
        "outputId": "f00e3f17-0cdf-43b2-a8ef-3cde9f7564f9"
      },
      "outputs": [
        {
          "output_type": "stream",
          "name": "stdout",
          "text": [
            "79/79 [==============================] - 11s 120ms/step\n"
          ]
        }
      ],
      "source": [
        "y_predicted_prob = model.predict(test_padded) # обучения модели на тестовом наборе\n",
        "y_predicted = np.argmax(y_predicted_prob, axis=1) # перевод вероятностей в метки [0, 1] с порогом 0.5"
      ]
    },
    {
      "cell_type": "code",
      "source": [
        "y_prob = []\n",
        "for i in range(len(y_predicted_prob)):\n",
        "  y_prob.append(y_predicted_prob[i][1])"
      ],
      "metadata": {
        "id": "LHaiRT5-WWn_"
      },
      "execution_count": null,
      "outputs": []
    },
    {
      "cell_type": "code",
      "execution_count": null,
      "metadata": {
        "colab": {
          "base_uri": "https://localhost:8080/"
        },
        "outputId": "26e63657-fa47-4644-8634-ac8bae2e629e",
        "id": "tY-7e4xHWWn_"
      },
      "outputs": [
        {
          "output_type": "stream",
          "name": "stdout",
          "text": [
            "Accuracy Score:\t\t0.8778\n",
            "Precision_score:\t0.8802\n",
            "Recall_score:\t\t0.8772\n",
            "F1_score:\t\t0.8770\n",
            "AUC Score:\t\t0.9487\n"
          ]
        }
      ],
      "source": [
        "generate_preformance_scores(y_tested, y_predicted, y_prob)"
      ]
    },
    {
      "cell_type": "code",
      "execution_count": null,
      "metadata": {
        "colab": {
          "base_uri": "https://localhost:8080/",
          "height": 339
        },
        "outputId": "568bac53-0cdd-4cd7-86cf-0fc8eb6a6e78",
        "id": "g9PhLdncWWoA"
      },
      "outputs": [
        {
          "output_type": "display_data",
          "data": {
            "text/plain": [
              "<Figure size 300x300 with 1 Axes>"
            ],
            "image/png": "[encoded data removed]"
          },
          "metadata": {}
        }
      ],
      "source": [
        "plot_confusion_matrix(y_tested, y_predicted, figsize=(3, 3))"
      ]
    },
    {
      "cell_type": "code",
      "execution_count": null,
      "metadata": {
        "colab": {
          "base_uri": "https://localhost:8080/",
          "height": 492
        },
        "outputId": "756f9e58-ec12-4d67-b963-e4d56c507a76",
        "id": "nQ04rBQgWWoA"
      },
      "outputs": [
        {
          "output_type": "display_data",
          "data": {
            "text/plain": [
              "<Figure size 500x500 with 1 Axes>"
            ],
            "image/png": "[encoded data removed]"
          },
          "metadata": {}
        }
      ],
      "source": [
        "plot_roc_curve(y_tested, y_prob)"
      ]
    }
  ]
}